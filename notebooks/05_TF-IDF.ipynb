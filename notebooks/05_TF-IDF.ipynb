{
 "cells": [
  {
   "cell_type": "code",
   "execution_count": 1,
   "id": "91f6b31e",
   "metadata": {},
   "outputs": [],
   "source": [
    "import pandas as pd\n",
    "import numpy as np\n",
    "import matplotlib.pyplot as plt\n",
    "import seaborn as sns\n",
    "import time\n",
    "from tqdm.notebook import tqdm"
   ]
  },
  {
   "cell_type": "code",
   "execution_count": 2,
   "id": "634450dd",
   "metadata": {},
   "outputs": [
    {
     "name": "stderr",
     "output_type": "stream",
     "text": [
      "C:\\Users\\16156\\AppData\\Local\\Temp\\ipykernel_23508\\1134384371.py:1: DtypeWarning: Columns (29) have mixed types. Specify dtype option on import or set low_memory=False.\n",
      "  df = pd.read_csv('../data/df_br_tokensb.csv').drop(columns = 'Unnamed: 0')\n"
     ]
    },
    {
     "data": {
      "text/html": [
       "<div>\n",
       "<style scoped>\n",
       "    .dataframe tbody tr th:only-of-type {\n",
       "        vertical-align: middle;\n",
       "    }\n",
       "\n",
       "    .dataframe tbody tr th {\n",
       "        vertical-align: top;\n",
       "    }\n",
       "\n",
       "    .dataframe thead th {\n",
       "        text-align: right;\n",
       "    }\n",
       "</style>\n",
       "<table border=\"1\" class=\"dataframe\">\n",
       "  <thead>\n",
       "    <tr style=\"text-align: right;\">\n",
       "      <th></th>\n",
       "      <th>0</th>\n",
       "      <th>1</th>\n",
       "    </tr>\n",
       "  </thead>\n",
       "  <tbody>\n",
       "    <tr>\n",
       "      <th>business_id</th>\n",
       "      <td>ltBBYdNzkeKdCNPDAsxwAA</td>\n",
       "      <td>Zx7n8mdt8OzLRXVzolXNhQ</td>\n",
       "    </tr>\n",
       "    <tr>\n",
       "      <th>name</th>\n",
       "      <td>Tavern</td>\n",
       "      <td>Milk and Honey Nashville</td>\n",
       "    </tr>\n",
       "    <tr>\n",
       "      <th>address</th>\n",
       "      <td>1904 Broadway</td>\n",
       "      <td>214 11th Ave S</td>\n",
       "    </tr>\n",
       "    <tr>\n",
       "      <th>city</th>\n",
       "      <td>Nashville</td>\n",
       "      <td>Nashville</td>\n",
       "    </tr>\n",
       "    <tr>\n",
       "      <th>state</th>\n",
       "      <td>TN</td>\n",
       "      <td>TN</td>\n",
       "    </tr>\n",
       "    <tr>\n",
       "      <th>postal_code</th>\n",
       "      <td>37203.0</td>\n",
       "      <td>37203.0</td>\n",
       "    </tr>\n",
       "    <tr>\n",
       "      <th>latitude</th>\n",
       "      <td>36.1509</td>\n",
       "      <td>36.154702</td>\n",
       "    </tr>\n",
       "    <tr>\n",
       "      <th>longitude</th>\n",
       "      <td>-86.797012</td>\n",
       "      <td>-86.784541</td>\n",
       "    </tr>\n",
       "    <tr>\n",
       "      <th>overall_stars</th>\n",
       "      <td>4.0</td>\n",
       "      <td>4.0</td>\n",
       "    </tr>\n",
       "    <tr>\n",
       "      <th>review_count</th>\n",
       "      <td>1222</td>\n",
       "      <td>1725</td>\n",
       "    </tr>\n",
       "    <tr>\n",
       "      <th>is_open</th>\n",
       "      <td>1</td>\n",
       "      <td>1</td>\n",
       "    </tr>\n",
       "    <tr>\n",
       "      <th>attributes</th>\n",
       "      <td>{'BikeParking': 'True', 'Alcohol': \"u'full_bar...</td>\n",
       "      <td>{'WheelchairAccessible': 'True', 'RestaurantsP...</td>\n",
       "    </tr>\n",
       "    <tr>\n",
       "      <th>categories</th>\n",
       "      <td>Cocktail Bars, Nightlife, Gastropubs, Sports B...</td>\n",
       "      <td>American (New), Restaurants, American (Traditi...</td>\n",
       "    </tr>\n",
       "    <tr>\n",
       "      <th>hours</th>\n",
       "      <td>{'Monday': '0:0-0:0', 'Wednesday': '10:0-22:0'...</td>\n",
       "      <td>{'Monday': '0:0-0:0', 'Thursday': '6:30-15:0',...</td>\n",
       "    </tr>\n",
       "    <tr>\n",
       "      <th>clean_cat</th>\n",
       "      <td>American (New), Bars, Cocktail Bars, Gastropub...</td>\n",
       "      <td>American (New), American (Traditional), Breakf...</td>\n",
       "    </tr>\n",
       "    <tr>\n",
       "      <th>review_id</th>\n",
       "      <td>elqRpX9T3YwL07uLNtN3Bg</td>\n",
       "      <td>E9AB7V4z8xrt2uPF7T55FQ</td>\n",
       "    </tr>\n",
       "    <tr>\n",
       "      <th>user_id</th>\n",
       "      <td>-sryo4gDYxbZ1T5Bz4l5Bw</td>\n",
       "      <td>iYY5Ii1LGpZCpXFkHlMefw</td>\n",
       "    </tr>\n",
       "    <tr>\n",
       "      <th>review_stars</th>\n",
       "      <td>2</td>\n",
       "      <td>5</td>\n",
       "    </tr>\n",
       "    <tr>\n",
       "      <th>useful</th>\n",
       "      <td>0</td>\n",
       "      <td>0</td>\n",
       "    </tr>\n",
       "    <tr>\n",
       "      <th>funny</th>\n",
       "      <td>0</td>\n",
       "      <td>0</td>\n",
       "    </tr>\n",
       "    <tr>\n",
       "      <th>cool</th>\n",
       "      <td>0</td>\n",
       "      <td>0</td>\n",
       "    </tr>\n",
       "    <tr>\n",
       "      <th>date</th>\n",
       "      <td>2015-02-02 04:29:13</td>\n",
       "      <td>2018-04-27 23:03:21</td>\n",
       "    </tr>\n",
       "    <tr>\n",
       "      <th>review_stars.1</th>\n",
       "      <td>2</td>\n",
       "      <td>5</td>\n",
       "    </tr>\n",
       "    <tr>\n",
       "      <th>text</th>\n",
       "      <td>I at least have to give this restaurant two st...</td>\n",
       "      <td>Amazing biscuits and (fill in the blank). Grea...</td>\n",
       "    </tr>\n",
       "    <tr>\n",
       "      <th>clean</th>\n",
       "      <td>['restaurant', 'star', 'decent', 'food', 'dinn...</td>\n",
       "      <td>['amazing', 'biscuit', 'fill', 'blank', 'great...</td>\n",
       "    </tr>\n",
       "    <tr>\n",
       "      <th>text_length</th>\n",
       "      <td>473</td>\n",
       "      <td>101</td>\n",
       "    </tr>\n",
       "    <tr>\n",
       "      <th>polarity</th>\n",
       "      <td>0.079556</td>\n",
       "      <td>0.332</td>\n",
       "    </tr>\n",
       "    <tr>\n",
       "      <th>word_count</th>\n",
       "      <td>93</td>\n",
       "      <td>16</td>\n",
       "    </tr>\n",
       "    <tr>\n",
       "      <th>category</th>\n",
       "      <td>NaN</td>\n",
       "      <td>NaN</td>\n",
       "    </tr>\n",
       "  </tbody>\n",
       "</table>\n",
       "</div>"
      ],
      "text/plain": [
       "                                                                0  \\\n",
       "business_id                                ltBBYdNzkeKdCNPDAsxwAA   \n",
       "name                                                       Tavern   \n",
       "address                                             1904 Broadway   \n",
       "city                                                    Nashville   \n",
       "state                                                          TN   \n",
       "postal_code                                               37203.0   \n",
       "latitude                                                  36.1509   \n",
       "longitude                                              -86.797012   \n",
       "overall_stars                                                 4.0   \n",
       "review_count                                                 1222   \n",
       "is_open                                                         1   \n",
       "attributes      {'BikeParking': 'True', 'Alcohol': \"u'full_bar...   \n",
       "categories      Cocktail Bars, Nightlife, Gastropubs, Sports B...   \n",
       "hours           {'Monday': '0:0-0:0', 'Wednesday': '10:0-22:0'...   \n",
       "clean_cat       American (New), Bars, Cocktail Bars, Gastropub...   \n",
       "review_id                                  elqRpX9T3YwL07uLNtN3Bg   \n",
       "user_id                                    -sryo4gDYxbZ1T5Bz4l5Bw   \n",
       "review_stars                                                    2   \n",
       "useful                                                          0   \n",
       "funny                                                           0   \n",
       "cool                                                            0   \n",
       "date                                          2015-02-02 04:29:13   \n",
       "review_stars.1                                                  2   \n",
       "text            I at least have to give this restaurant two st...   \n",
       "clean           ['restaurant', 'star', 'decent', 'food', 'dinn...   \n",
       "text_length                                                   473   \n",
       "polarity                                                 0.079556   \n",
       "word_count                                                     93   \n",
       "category                                                      NaN   \n",
       "\n",
       "                                                                1  \n",
       "business_id                                Zx7n8mdt8OzLRXVzolXNhQ  \n",
       "name                                     Milk and Honey Nashville  \n",
       "address                                            214 11th Ave S  \n",
       "city                                                    Nashville  \n",
       "state                                                          TN  \n",
       "postal_code                                               37203.0  \n",
       "latitude                                                36.154702  \n",
       "longitude                                              -86.784541  \n",
       "overall_stars                                                 4.0  \n",
       "review_count                                                 1725  \n",
       "is_open                                                         1  \n",
       "attributes      {'WheelchairAccessible': 'True', 'RestaurantsP...  \n",
       "categories      American (New), Restaurants, American (Traditi...  \n",
       "hours           {'Monday': '0:0-0:0', 'Thursday': '6:30-15:0',...  \n",
       "clean_cat       American (New), American (Traditional), Breakf...  \n",
       "review_id                                  E9AB7V4z8xrt2uPF7T55FQ  \n",
       "user_id                                    iYY5Ii1LGpZCpXFkHlMefw  \n",
       "review_stars                                                    5  \n",
       "useful                                                          0  \n",
       "funny                                                           0  \n",
       "cool                                                            0  \n",
       "date                                          2018-04-27 23:03:21  \n",
       "review_stars.1                                                  5  \n",
       "text            Amazing biscuits and (fill in the blank). Grea...  \n",
       "clean           ['amazing', 'biscuit', 'fill', 'blank', 'great...  \n",
       "text_length                                                   101  \n",
       "polarity                                                    0.332  \n",
       "word_count                                                     16  \n",
       "category                                                      NaN  "
      ]
     },
     "execution_count": 2,
     "metadata": {},
     "output_type": "execute_result"
    }
   ],
   "source": [
    "df = pd.read_csv('../data/df_br_tokensb.csv').drop(columns = 'Unnamed: 0')\n",
    "df.head(2).T"
   ]
  },
  {
   "cell_type": "code",
   "execution_count": 3,
   "id": "284c6ae9",
   "metadata": {},
   "outputs": [],
   "source": [
    "from gensim import corpora"
   ]
  },
  {
   "cell_type": "code",
   "execution_count": 4,
   "id": "28e5c271",
   "metadata": {},
   "outputs": [
    {
     "name": "stdout",
     "output_type": "stream",
     "text": [
      "CPU times: total: 2.53 s\n",
      "Wall time: 2.53 s\n"
     ]
    }
   ],
   "source": [
    "%%time\n",
    "tokenized_texts = [text.split() for text in df['clean']]"
   ]
  },
  {
   "cell_type": "code",
   "execution_count": 5,
   "id": "c7600bc7",
   "metadata": {},
   "outputs": [
    {
     "name": "stdout",
     "output_type": "stream",
     "text": [
      "CPU times: total: 21.7 s\n",
      "Wall time: 21.8 s\n"
     ]
    }
   ],
   "source": [
    "%%time\n",
    "mydict = corpora.Dictionary(tokenized_texts)"
   ]
  },
  {
   "cell_type": "code",
   "execution_count": 6,
   "id": "32c85fb7",
   "metadata": {},
   "outputs": [
    {
     "name": "stdout",
     "output_type": "stream",
     "text": [
      "126282\n"
     ]
    }
   ],
   "source": [
    "print(len(mydict.token2id))"
   ]
  },
  {
   "cell_type": "code",
   "execution_count": 7,
   "id": "4406cf71",
   "metadata": {},
   "outputs": [
    {
     "name": "stdout",
     "output_type": "stream",
     "text": [
      "Word: '$', - ID: 0 \n",
      "Word: 'apparent', - ID: 1 \n",
      "Word: 'appetizer', - ID: 2 \n",
      "Word: 'assistant', - ID: 3 \n"
     ]
    }
   ],
   "source": [
    "i = 0\n",
    "# Print top 4 (word, id) tuples\n",
    "for key in mydict.token2id.keys():\n",
    "    print(\"Word: {} - ID: {} \".format(key, mydict.token2id[key]))\n",
    "    if i == 3:\n",
    "        break\n",
    "    i += 1"
   ]
  },
  {
   "cell_type": "code",
   "execution_count": 8,
   "id": "a5142eff",
   "metadata": {},
   "outputs": [],
   "source": [
    "X=df['clean']\n",
    "y= df['review_stars.1']"
   ]
  },
  {
   "cell_type": "code",
   "execution_count": 9,
   "id": "8e3d0aef",
   "metadata": {},
   "outputs": [],
   "source": [
    "from sklearn.model_selection import train_test_split\n",
    "X_train, X_test, y_train, y_test = train_test_split(X, y, test_size=0.33, random_state=42)"
   ]
  },
  {
   "cell_type": "code",
   "execution_count": null,
   "id": "24ce2a99",
   "metadata": {},
   "outputs": [],
   "source": [
    "#?\n",
    "# Train the tfidf Model \n",
    "from gensim.models import TfidfModel\n",
    "\n",
    "\n",
    "# Make sure the dictionary is created from the previous block\n",
    "# BOW corpus is required for tfidf model\n",
    "corpus = [mydict.doc2bow(line) for line in df['clean']]\n",
    "\n",
    "# TF-IDF Model\n",
    "tfidf_model = TfidfModel(corpus)"
   ]
  },
  {
   "cell_type": "code",
   "execution_count": 10,
   "id": "a9230a05",
   "metadata": {},
   "outputs": [],
   "source": [
    "from sklearn.feature_extraction.text import TfidfVectorizer\n",
    "vectorizer= TfidfVectorizer()\n",
    "tf_x_train = vectorizer.fit_transform(X_train)\n",
    "tf_x_test = vectorizer.transform(X_test)"
   ]
  },
  {
   "cell_type": "code",
   "execution_count": 11,
   "id": "f0d3b8ab",
   "metadata": {},
   "outputs": [],
   "source": [
    "from sklearn.svm import LinearSVC\n",
    "clf = LinearSVC(random_state=0)"
   ]
  },
  {
   "cell_type": "code",
   "execution_count": 12,
   "id": "7d3f22a4",
   "metadata": {},
   "outputs": [
    {
     "data": {
      "text/html": [
       "<style>#sk-container-id-1 {color: black;background-color: white;}#sk-container-id-1 pre{padding: 0;}#sk-container-id-1 div.sk-toggleable {background-color: white;}#sk-container-id-1 label.sk-toggleable__label {cursor: pointer;display: block;width: 100%;margin-bottom: 0;padding: 0.3em;box-sizing: border-box;text-align: center;}#sk-container-id-1 label.sk-toggleable__label-arrow:before {content: \"▸\";float: left;margin-right: 0.25em;color: #696969;}#sk-container-id-1 label.sk-toggleable__label-arrow:hover:before {color: black;}#sk-container-id-1 div.sk-estimator:hover label.sk-toggleable__label-arrow:before {color: black;}#sk-container-id-1 div.sk-toggleable__content {max-height: 0;max-width: 0;overflow: hidden;text-align: left;background-color: #f0f8ff;}#sk-container-id-1 div.sk-toggleable__content pre {margin: 0.2em;color: black;border-radius: 0.25em;background-color: #f0f8ff;}#sk-container-id-1 input.sk-toggleable__control:checked~div.sk-toggleable__content {max-height: 200px;max-width: 100%;overflow: auto;}#sk-container-id-1 input.sk-toggleable__control:checked~label.sk-toggleable__label-arrow:before {content: \"▾\";}#sk-container-id-1 div.sk-estimator input.sk-toggleable__control:checked~label.sk-toggleable__label {background-color: #d4ebff;}#sk-container-id-1 div.sk-label input.sk-toggleable__control:checked~label.sk-toggleable__label {background-color: #d4ebff;}#sk-container-id-1 input.sk-hidden--visually {border: 0;clip: rect(1px 1px 1px 1px);clip: rect(1px, 1px, 1px, 1px);height: 1px;margin: -1px;overflow: hidden;padding: 0;position: absolute;width: 1px;}#sk-container-id-1 div.sk-estimator {font-family: monospace;background-color: #f0f8ff;border: 1px dotted black;border-radius: 0.25em;box-sizing: border-box;margin-bottom: 0.5em;}#sk-container-id-1 div.sk-estimator:hover {background-color: #d4ebff;}#sk-container-id-1 div.sk-parallel-item::after {content: \"\";width: 100%;border-bottom: 1px solid gray;flex-grow: 1;}#sk-container-id-1 div.sk-label:hover label.sk-toggleable__label {background-color: #d4ebff;}#sk-container-id-1 div.sk-serial::before {content: \"\";position: absolute;border-left: 1px solid gray;box-sizing: border-box;top: 0;bottom: 0;left: 50%;z-index: 0;}#sk-container-id-1 div.sk-serial {display: flex;flex-direction: column;align-items: center;background-color: white;padding-right: 0.2em;padding-left: 0.2em;position: relative;}#sk-container-id-1 div.sk-item {position: relative;z-index: 1;}#sk-container-id-1 div.sk-parallel {display: flex;align-items: stretch;justify-content: center;background-color: white;position: relative;}#sk-container-id-1 div.sk-item::before, #sk-container-id-1 div.sk-parallel-item::before {content: \"\";position: absolute;border-left: 1px solid gray;box-sizing: border-box;top: 0;bottom: 0;left: 50%;z-index: -1;}#sk-container-id-1 div.sk-parallel-item {display: flex;flex-direction: column;z-index: 1;position: relative;background-color: white;}#sk-container-id-1 div.sk-parallel-item:first-child::after {align-self: flex-end;width: 50%;}#sk-container-id-1 div.sk-parallel-item:last-child::after {align-self: flex-start;width: 50%;}#sk-container-id-1 div.sk-parallel-item:only-child::after {width: 0;}#sk-container-id-1 div.sk-dashed-wrapped {border: 1px dashed gray;margin: 0 0.4em 0.5em 0.4em;box-sizing: border-box;padding-bottom: 0.4em;background-color: white;}#sk-container-id-1 div.sk-label label {font-family: monospace;font-weight: bold;display: inline-block;line-height: 1.2em;}#sk-container-id-1 div.sk-label-container {text-align: center;}#sk-container-id-1 div.sk-container {/* jupyter's `normalize.less` sets `[hidden] { display: none; }` but bootstrap.min.css set `[hidden] { display: none !important; }` so we also need the `!important` here to be able to override the default hidden behavior on the sphinx rendered scikit-learn.org. See: https://github.com/scikit-learn/scikit-learn/issues/21755 */display: inline-block !important;position: relative;}#sk-container-id-1 div.sk-text-repr-fallback {display: none;}</style><div id=\"sk-container-id-1\" class=\"sk-top-container\"><div class=\"sk-text-repr-fallback\"><pre>LinearSVC(random_state=0)</pre><b>In a Jupyter environment, please rerun this cell to show the HTML representation or trust the notebook. <br />On GitHub, the HTML representation is unable to render, please try loading this page with nbviewer.org.</b></div><div class=\"sk-container\" hidden><div class=\"sk-item\"><div class=\"sk-estimator sk-toggleable\"><input class=\"sk-toggleable__control sk-hidden--visually\" id=\"sk-estimator-id-1\" type=\"checkbox\" checked><label for=\"sk-estimator-id-1\" class=\"sk-toggleable__label sk-toggleable__label-arrow\">LinearSVC</label><div class=\"sk-toggleable__content\"><pre>LinearSVC(random_state=0)</pre></div></div></div></div></div>"
      ],
      "text/plain": [
       "LinearSVC(random_state=0)"
      ]
     },
     "execution_count": 12,
     "metadata": {},
     "output_type": "execute_result"
    }
   ],
   "source": [
    "clf.fit(tf_x_train,y_train)"
   ]
  },
  {
   "cell_type": "code",
   "execution_count": 13,
   "id": "1ca9b987",
   "metadata": {},
   "outputs": [],
   "source": [
    "y_test_pred=clf.predict(tf_x_test)"
   ]
  },
  {
   "cell_type": "code",
   "execution_count": 14,
   "id": "aa1ccc1d",
   "metadata": {},
   "outputs": [
    {
     "name": "stdout",
     "output_type": "stream",
     "text": [
      "              precision    recall  f1-score   support\n",
      "\n",
      "           1       0.66      0.77      0.72     11478\n",
      "           2       0.42      0.25      0.31      8703\n",
      "           3       0.45      0.30      0.36     12243\n",
      "           4       0.48      0.38      0.43     25237\n",
      "           5       0.73      0.88      0.80     50037\n",
      "\n",
      "    accuracy                           0.64    107698\n",
      "   macro avg       0.55      0.52      0.52    107698\n",
      "weighted avg       0.61      0.64      0.61    107698\n",
      "\n"
     ]
    }
   ],
   "source": [
    "from sklearn.metrics import classification_report\n",
    "print(classification_report(y_test, y_test_pred))"
   ]
  },
  {
   "cell_type": "code",
   "execution_count": 15,
   "id": "a378cab6",
   "metadata": {},
   "outputs": [],
   "source": [
    "from sklearn.linear_model import LogisticRegression\n",
    "clf = LogisticRegression(max_iter=1000)"
   ]
  },
  {
   "cell_type": "code",
   "execution_count": 16,
   "id": "cac62597",
   "metadata": {},
   "outputs": [
    {
     "data": {
      "text/html": [
       "<style>#sk-container-id-2 {color: black;background-color: white;}#sk-container-id-2 pre{padding: 0;}#sk-container-id-2 div.sk-toggleable {background-color: white;}#sk-container-id-2 label.sk-toggleable__label {cursor: pointer;display: block;width: 100%;margin-bottom: 0;padding: 0.3em;box-sizing: border-box;text-align: center;}#sk-container-id-2 label.sk-toggleable__label-arrow:before {content: \"▸\";float: left;margin-right: 0.25em;color: #696969;}#sk-container-id-2 label.sk-toggleable__label-arrow:hover:before {color: black;}#sk-container-id-2 div.sk-estimator:hover label.sk-toggleable__label-arrow:before {color: black;}#sk-container-id-2 div.sk-toggleable__content {max-height: 0;max-width: 0;overflow: hidden;text-align: left;background-color: #f0f8ff;}#sk-container-id-2 div.sk-toggleable__content pre {margin: 0.2em;color: black;border-radius: 0.25em;background-color: #f0f8ff;}#sk-container-id-2 input.sk-toggleable__control:checked~div.sk-toggleable__content {max-height: 200px;max-width: 100%;overflow: auto;}#sk-container-id-2 input.sk-toggleable__control:checked~label.sk-toggleable__label-arrow:before {content: \"▾\";}#sk-container-id-2 div.sk-estimator input.sk-toggleable__control:checked~label.sk-toggleable__label {background-color: #d4ebff;}#sk-container-id-2 div.sk-label input.sk-toggleable__control:checked~label.sk-toggleable__label {background-color: #d4ebff;}#sk-container-id-2 input.sk-hidden--visually {border: 0;clip: rect(1px 1px 1px 1px);clip: rect(1px, 1px, 1px, 1px);height: 1px;margin: -1px;overflow: hidden;padding: 0;position: absolute;width: 1px;}#sk-container-id-2 div.sk-estimator {font-family: monospace;background-color: #f0f8ff;border: 1px dotted black;border-radius: 0.25em;box-sizing: border-box;margin-bottom: 0.5em;}#sk-container-id-2 div.sk-estimator:hover {background-color: #d4ebff;}#sk-container-id-2 div.sk-parallel-item::after {content: \"\";width: 100%;border-bottom: 1px solid gray;flex-grow: 1;}#sk-container-id-2 div.sk-label:hover label.sk-toggleable__label {background-color: #d4ebff;}#sk-container-id-2 div.sk-serial::before {content: \"\";position: absolute;border-left: 1px solid gray;box-sizing: border-box;top: 0;bottom: 0;left: 50%;z-index: 0;}#sk-container-id-2 div.sk-serial {display: flex;flex-direction: column;align-items: center;background-color: white;padding-right: 0.2em;padding-left: 0.2em;position: relative;}#sk-container-id-2 div.sk-item {position: relative;z-index: 1;}#sk-container-id-2 div.sk-parallel {display: flex;align-items: stretch;justify-content: center;background-color: white;position: relative;}#sk-container-id-2 div.sk-item::before, #sk-container-id-2 div.sk-parallel-item::before {content: \"\";position: absolute;border-left: 1px solid gray;box-sizing: border-box;top: 0;bottom: 0;left: 50%;z-index: -1;}#sk-container-id-2 div.sk-parallel-item {display: flex;flex-direction: column;z-index: 1;position: relative;background-color: white;}#sk-container-id-2 div.sk-parallel-item:first-child::after {align-self: flex-end;width: 50%;}#sk-container-id-2 div.sk-parallel-item:last-child::after {align-self: flex-start;width: 50%;}#sk-container-id-2 div.sk-parallel-item:only-child::after {width: 0;}#sk-container-id-2 div.sk-dashed-wrapped {border: 1px dashed gray;margin: 0 0.4em 0.5em 0.4em;box-sizing: border-box;padding-bottom: 0.4em;background-color: white;}#sk-container-id-2 div.sk-label label {font-family: monospace;font-weight: bold;display: inline-block;line-height: 1.2em;}#sk-container-id-2 div.sk-label-container {text-align: center;}#sk-container-id-2 div.sk-container {/* jupyter's `normalize.less` sets `[hidden] { display: none; }` but bootstrap.min.css set `[hidden] { display: none !important; }` so we also need the `!important` here to be able to override the default hidden behavior on the sphinx rendered scikit-learn.org. See: https://github.com/scikit-learn/scikit-learn/issues/21755 */display: inline-block !important;position: relative;}#sk-container-id-2 div.sk-text-repr-fallback {display: none;}</style><div id=\"sk-container-id-2\" class=\"sk-top-container\"><div class=\"sk-text-repr-fallback\"><pre>LogisticRegression(max_iter=1000)</pre><b>In a Jupyter environment, please rerun this cell to show the HTML representation or trust the notebook. <br />On GitHub, the HTML representation is unable to render, please try loading this page with nbviewer.org.</b></div><div class=\"sk-container\" hidden><div class=\"sk-item\"><div class=\"sk-estimator sk-toggleable\"><input class=\"sk-toggleable__control sk-hidden--visually\" id=\"sk-estimator-id-2\" type=\"checkbox\" checked><label for=\"sk-estimator-id-2\" class=\"sk-toggleable__label sk-toggleable__label-arrow\">LogisticRegression</label><div class=\"sk-toggleable__content\"><pre>LogisticRegression(max_iter=1000)</pre></div></div></div></div></div>"
      ],
      "text/plain": [
       "LogisticRegression(max_iter=1000)"
      ]
     },
     "execution_count": 16,
     "metadata": {},
     "output_type": "execute_result"
    }
   ],
   "source": [
    "clf.fit(tf_x_train,y_train)"
   ]
  },
  {
   "cell_type": "code",
   "execution_count": 17,
   "id": "82692b1d",
   "metadata": {},
   "outputs": [],
   "source": [
    "y_test_pred=clf.predict(tf_x_test)"
   ]
  },
  {
   "cell_type": "code",
   "execution_count": 18,
   "id": "29324e5e",
   "metadata": {},
   "outputs": [
    {
     "name": "stdout",
     "output_type": "stream",
     "text": [
      "              precision    recall  f1-score   support\n",
      "\n",
      "           1       0.69      0.77      0.73     11478\n",
      "           2       0.46      0.32      0.38      8703\n",
      "           3       0.48      0.37      0.42     12243\n",
      "           4       0.52      0.43      0.47     25237\n",
      "           5       0.75      0.87      0.81     50037\n",
      "\n",
      "    accuracy                           0.66    107698\n",
      "   macro avg       0.58      0.55      0.56    107698\n",
      "weighted avg       0.63      0.66      0.64    107698\n",
      "\n"
     ]
    }
   ],
   "source": [
    "print(classification_report(y_test, y_test_pred))"
   ]
  },
  {
   "cell_type": "code",
   "execution_count": 19,
   "id": "fac0f6f1",
   "metadata": {
    "scrolled": true
   },
   "outputs": [
    {
     "data": {
      "image/png": "[encoded data removed]",
      "text/plain": [
       "<Figure size 500x500 with 2 Axes>"
      ]
     },
     "metadata": {},
     "output_type": "display_data"
    }
   ],
   "source": [
    "from sklearn.metrics import confusion_matrix\n",
    "import seaborn as sns\n",
    "\n",
    "cm = confusion_matrix(y_test, y_test_pred)\n",
    "# Normalise\n",
    "cmn = cm.astype('float') / cm.sum(axis=1)[:, np.newaxis]\n",
    "fig, ax = plt.subplots(figsize=(5, 5))\n",
    "sns.heatmap(cmn, annot=True, fmt='.2f')\n",
    "plt.ylabel('Actual')\n",
    "plt.xlabel('Predicted')\n",
    "ax.xaxis.set_ticklabels(['1', '2', '3', '4', '5'])\n",
    "ax.yaxis.set_ticklabels(['1', '2', '3', '4', '5'])\n",
    "\n",
    "plt.show(block=False)"
   ]
  },
  {
   "cell_type": "markdown",
   "id": "31281f13",
   "metadata": {},
   "source": [
    "### tf-idf with ngram_range (1,2)"
   ]
  },
  {
   "cell_type": "code",
   "execution_count": 20,
   "id": "66721f9d",
   "metadata": {},
   "outputs": [
    {
     "name": "stdout",
     "output_type": "stream",
     "text": [
      "CPU times: total: 47.6 s\n",
      "Wall time: 47.8 s\n"
     ]
    }
   ],
   "source": [
    "%%time\n",
    "\n",
    "vectorizer= TfidfVectorizer(ngram_range=(1,2))\n",
    "tf_x_train = vectorizer.fit_transform(X_train)\n",
    "tf_x_test = vectorizer.transform(X_test)"
   ]
  },
  {
   "cell_type": "markdown",
   "id": "f10418b5",
   "metadata": {},
   "source": [
    "### Logistic Regression"
   ]
  },
  {
   "cell_type": "code",
   "execution_count": 21,
   "id": "9564693e",
   "metadata": {},
   "outputs": [
    {
     "name": "stdout",
     "output_type": "stream",
     "text": [
      "              precision    recall  f1-score   support\n",
      "\n",
      "           1       0.70      0.76      0.73     11478\n",
      "           2       0.47      0.31      0.38      8703\n",
      "           3       0.51      0.38      0.43     12243\n",
      "           4       0.53      0.46      0.49     25237\n",
      "           5       0.75      0.88      0.81     50037\n",
      "\n",
      "    accuracy                           0.67    107698\n",
      "   macro avg       0.59      0.56      0.57    107698\n",
      "weighted avg       0.65      0.67      0.65    107698\n",
      "\n",
      "CPU times: total: 43.5 s\n",
      "Wall time: 43.6 s\n"
     ]
    }
   ],
   "source": [
    "%%time\n",
    "\n",
    "clf = LogisticRegression(max_iter=1000,solver='saga')\n",
    "\n",
    "clf.fit(tf_x_train,y_train)\n",
    "\n",
    "y_test_pred=clf.predict(tf_x_test)\n",
    "\n",
    "print(classification_report(y_test, y_test_pred))"
   ]
  },
  {
   "cell_type": "code",
   "execution_count": 22,
   "id": "85a1fa19",
   "metadata": {},
   "outputs": [
    {
     "data": {
      "text/plain": [
       "0.568"
      ]
     },
     "execution_count": 22,
     "metadata": {},
     "output_type": "execute_result"
    }
   ],
   "source": [
    "(.73+.38+.43+.49+.81)/5"
   ]
  },
  {
   "cell_type": "code",
   "execution_count": 23,
   "id": "7e901a59",
   "metadata": {},
   "outputs": [
    {
     "name": "stdout",
     "output_type": "stream",
     "text": [
      "              precision    recall  f1-score   support\n",
      "\n",
      "           1       0.70      0.76      0.73     11478\n",
      "           2       0.47      0.31      0.38      8703\n",
      "           3       0.51      0.38      0.43     12243\n",
      "           4       0.53      0.46      0.49     25237\n",
      "           5       0.75      0.88      0.81     50037\n",
      "\n",
      "    accuracy                           0.67    107698\n",
      "   macro avg       0.59      0.56      0.57    107698\n",
      "weighted avg       0.65      0.67      0.65    107698\n",
      "\n",
      "CPU times: total: 46min 39s\n",
      "Wall time: 23min 29s\n"
     ]
    }
   ],
   "source": [
    "%%time\n",
    "lr = LogisticRegression(penalty='l2', max_iter=1000, C=1)\n",
    "lr.fit(tf_x_train,y_train)\n",
    "y_test_pred=lr.predict(tf_x_test)\n",
    "print(classification_report(y_test, y_test_pred))"
   ]
  },
  {
   "cell_type": "markdown",
   "id": "76014448",
   "metadata": {},
   "source": [
    "Random Forest\n",
    "increase ngram 3\n",
    "-interpretation"
   ]
  },
  {
   "cell_type": "markdown",
   "id": "1d566394",
   "metadata": {},
   "source": [
    "#### Random Forest"
   ]
  },
  {
   "cell_type": "code",
   "execution_count": 25,
   "id": "0d34a66a",
   "metadata": {},
   "outputs": [
    {
     "ename": "NameError",
     "evalue": "name 'f1_score' is not defined",
     "output_type": "error",
     "traceback": [
      "\u001b[1;31m---------------------------------------------------------------------------\u001b[0m",
      "\u001b[1;31mNameError\u001b[0m                                 Traceback (most recent call last)",
      "File \u001b[1;32m<timed exec>:9\u001b[0m\n",
      "\u001b[1;31mNameError\u001b[0m: name 'f1_score' is not defined"
     ]
    }
   ],
   "source": [
    "%%time\n",
    "from sklearn.ensemble import RandomForestClassifier\n",
    "from sklearn.model_selection import GridSearchCV, cross_val_score\n",
    "\n",
    "\n",
    "rf = RandomForestClassifier(max_leaf_nodes=15, n_estimators=1250)\n",
    "rf.fit(tf_x_train, y_train)\n",
    "y_train_pred_rf = rf.predict(tf_x_train)\n",
    "y_test_pred_rf = rf.predict(tf_x_test)"
   ]
  },
  {
   "cell_type": "code",
   "execution_count": 27,
   "id": "f654f31c",
   "metadata": {},
   "outputs": [
    {
     "name": "stdout",
     "output_type": "stream",
     "text": [
      "Train F1 Score:  0.12650400097561892\n",
      "Test F1 Score:  0.12688876913811137\n"
     ]
    }
   ],
   "source": [
    " from sklearn.metrics import f1_score\n",
    "print('Train F1 Score: ', f1_score(y_train, y_train_pred_rf, average='macro'))\n",
    "print('Test F1 Score: ', f1_score(y_test, y_test_pred_rf, average='macro'))"
   ]
  },
  {
   "cell_type": "code",
   "execution_count": 28,
   "id": "d3624bda",
   "metadata": {},
   "outputs": [
    {
     "name": "stdout",
     "output_type": "stream",
     "text": [
      "              precision    recall  f1-score   support\n",
      "\n",
      "           1       0.00      0.00      0.00     11478\n",
      "           2       0.00      0.00      0.00      8703\n",
      "           3       0.00      0.00      0.00     12243\n",
      "           4       0.00      0.00      0.00     25237\n",
      "           5       0.46      1.00      0.63     50037\n",
      "\n",
      "    accuracy                           0.46    107698\n",
      "   macro avg       0.09      0.20      0.13    107698\n",
      "weighted avg       0.22      0.46      0.29    107698\n",
      "\n"
     ]
    },
    {
     "name": "stderr",
     "output_type": "stream",
     "text": [
      "C:\\Users\\16156\\ANACONDA\\lib\\site-packages\\sklearn\\metrics\\_classification.py:1344: UndefinedMetricWarning: Precision and F-score are ill-defined and being set to 0.0 in labels with no predicted samples. Use `zero_division` parameter to control this behavior.\n",
      "  _warn_prf(average, modifier, msg_start, len(result))\n",
      "C:\\Users\\16156\\ANACONDA\\lib\\site-packages\\sklearn\\metrics\\_classification.py:1344: UndefinedMetricWarning: Precision and F-score are ill-defined and being set to 0.0 in labels with no predicted samples. Use `zero_division` parameter to control this behavior.\n",
      "  _warn_prf(average, modifier, msg_start, len(result))\n",
      "C:\\Users\\16156\\ANACONDA\\lib\\site-packages\\sklearn\\metrics\\_classification.py:1344: UndefinedMetricWarning: Precision and F-score are ill-defined and being set to 0.0 in labels with no predicted samples. Use `zero_division` parameter to control this behavior.\n",
      "  _warn_prf(average, modifier, msg_start, len(result))\n"
     ]
    }
   ],
   "source": [
    "print(classification_report(y_test, y_test_pred_rf))"
   ]
  },
  {
   "cell_type": "markdown",
   "id": "973ea30c",
   "metadata": {},
   "source": [
    "### Count Vectorizer"
   ]
  },
  {
   "cell_type": "code",
   "execution_count": 29,
   "id": "4097b814",
   "metadata": {},
   "outputs": [],
   "source": [
    "from sklearn.feature_extraction.text import CountVectorizer"
   ]
  },
  {
   "cell_type": "code",
   "execution_count": 30,
   "id": "beec975b",
   "metadata": {},
   "outputs": [],
   "source": [
    "X = df[['text']]\n",
    "y = df['review_stars']\n",
    "\n",
    "X_train, X_test, y_train, y_test = train_test_split(X, y, random_state = 321, stratify = y)"
   ]
  },
  {
   "cell_type": "code",
   "execution_count": 31,
   "id": "952a548a",
   "metadata": {},
   "outputs": [
    {
     "name": "stdout",
     "output_type": "stream",
     "text": [
      "CPU times: total: 27.6 s\n",
      "Wall time: 27.8 s\n"
     ]
    }
   ],
   "source": [
    "%%time\n",
    "vect = CountVectorizer()\n",
    "\n",
    "X_train_vec = vect.fit_transform(X_train['text'])\n",
    "X_test_vec = vect.transform(X_test['text'])"
   ]
  },
  {
   "cell_type": "markdown",
   "id": "9fb26979",
   "metadata": {},
   "source": [
    "#### Multinomial NB"
   ]
  },
  {
   "cell_type": "code",
   "execution_count": 33,
   "id": "e43e9de7",
   "metadata": {},
   "outputs": [],
   "source": [
    "from sklearn.naive_bayes import MultinomialNB"
   ]
  },
  {
   "cell_type": "code",
   "execution_count": 34,
   "id": "fb566566",
   "metadata": {},
   "outputs": [
    {
     "name": "stdout",
     "output_type": "stream",
     "text": [
      "CPU times: total: 219 ms\n",
      "Wall time: 212 ms\n"
     ]
    }
   ],
   "source": [
    "%%time\n",
    "nb = MultinomialNB().fit(X_train_vec, y_train)"
   ]
  },
  {
   "cell_type": "code",
   "execution_count": 35,
   "id": "8abfaaa2",
   "metadata": {},
   "outputs": [],
   "source": [
    "y_pred = nb.predict(X_test_vec)"
   ]
  },
  {
   "cell_type": "code",
   "execution_count": 37,
   "id": "3a34afee",
   "metadata": {},
   "outputs": [
    {
     "data": {
      "text/plain": [
       "0.6438613048327593"
      ]
     },
     "execution_count": 37,
     "metadata": {},
     "output_type": "execute_result"
    }
   ],
   "source": [
    "from sklearn.metrics import accuracy_score\n",
    "accuracy_score(y_test, y_pred)"
   ]
  },
  {
   "cell_type": "code",
   "execution_count": 38,
   "id": "6ef31891",
   "metadata": {},
   "outputs": [
    {
     "data": {
      "image/png": "[encoded data removed]",
      "text/plain": [
       "<Figure size 500x500 with 2 Axes>"
      ]
     },
     "metadata": {},
     "output_type": "display_data"
    }
   ],
   "source": [
    "cm = confusion_matrix(y_test, y_pred)\n",
    "# Normalise\n",
    "cmn = cm.astype('float') / cm.sum(axis=1)[:, np.newaxis]\n",
    "fig, ax = plt.subplots(figsize=(5, 5))\n",
    "sns.heatmap(cmn, annot=True, fmt='.2f')\n",
    "plt.ylabel('Actual')\n",
    "plt.xlabel('Predicted')\n",
    "ax.xaxis.set_ticklabels(['1', '2', '3', '4', '5'])\n",
    "ax.yaxis.set_ticklabels(['1', '2', '3', '4', '5'])\n",
    "\n",
    "plt.show(block=False)"
   ]
  },
  {
   "cell_type": "code",
   "execution_count": 39,
   "id": "f93dfa35",
   "metadata": {},
   "outputs": [],
   "source": [
    "#ratings to binary 0/1\n",
    "#negative if <=3, positive if >3\n",
    "df['binary_st'] = np.where(df['review_stars'] <= 3, 0, 1)"
   ]
  },
  {
   "cell_type": "code",
   "execution_count": 63,
   "id": "79c77e82",
   "metadata": {},
   "outputs": [],
   "source": [
    "X = df[['clean']]\n",
    "y = df['binary_st']\n",
    "\n",
    "X_train, X_test, y_train, y_test = train_test_split(X, y, random_state = 321, stratify = y)\n",
    "\n",
    "vect = CountVectorizer()\n",
    "X_train_vec = vect.fit_transform(X_train['clean'])\n",
    "X_test_vec = vect.transform(X_test['clean'])"
   ]
  },
  {
   "cell_type": "code",
   "execution_count": 64,
   "id": "8860f5e5",
   "metadata": {},
   "outputs": [],
   "source": [
    "nb = MultinomialNB().fit(X_train_vec, y_train)\n",
    "y_pred = nb.predict(X_test_vec)"
   ]
  },
  {
   "cell_type": "code",
   "execution_count": 65,
   "id": "af6d4f75",
   "metadata": {},
   "outputs": [
    {
     "data": {
      "text/plain": [
       "0.8837343269313265"
      ]
     },
     "execution_count": 65,
     "metadata": {},
     "output_type": "execute_result"
    }
   ],
   "source": [
    "accuracy_score(y_test, y_pred)"
   ]
  },
  {
   "cell_type": "code",
   "execution_count": 66,
   "id": "7202a41e",
   "metadata": {},
   "outputs": [
    {
     "name": "stdout",
     "output_type": "stream",
     "text": [
      "              precision    recall  f1-score   support\n",
      "\n",
      "           0       0.83      0.77      0.80     24621\n",
      "           1       0.90      0.93      0.92     56968\n",
      "\n",
      "    accuracy                           0.88     81589\n",
      "   macro avg       0.87      0.85      0.86     81589\n",
      "weighted avg       0.88      0.88      0.88     81589\n",
      "\n"
     ]
    }
   ],
   "source": [
    "print(classification_report(y_test, y_pred))"
   ]
  },
  {
   "cell_type": "code",
   "execution_count": 67,
   "id": "335a771c",
   "metadata": {},
   "outputs": [
    {
     "data": {
      "text/plain": [
       "array(['00', '000', '0005', ..., '饺子', '鳥唐揚げ', '麻辣'], dtype=object)"
      ]
     },
     "execution_count": 67,
     "metadata": {},
     "output_type": "execute_result"
    }
   ],
   "source": [
    "vect.get_feature_names_out()"
   ]
  },
  {
   "cell_type": "code",
   "execution_count": 68,
   "id": "ac8b2c15",
   "metadata": {},
   "outputs": [],
   "source": [
    "def important_features(vectorizer,classifier,n=20):\n",
    "    class_labels = classifier.classes_\n",
    "    feature_names =vectorizer.get_feature_names_out()\n",
    "\n",
    "    topn_class1 = sorted(zip(classifier.feature_count_[0], feature_names),reverse=True)[:n]\n",
    "    topn_class2 = sorted(zip(classifier.feature_count_[1], feature_names),reverse=True)[:n]\n",
    "\n",
    "    print(\"Important words in negative reviews\")\n",
    "\n",
    "    for coef, feat in topn_class1:\n",
    "        print(class_labels[0], coef, feat)\n",
    "\n",
    "    print(\"-----------------------------------------\")\n",
    "    print(\"Important words in positive reviews\")\n",
    "\n",
    "    for coef, feat in topn_class2:\n",
    "        print(class_labels[1], coef, feat)"
   ]
  },
  {
   "cell_type": "code",
   "execution_count": 69,
   "id": "f17f2f53",
   "metadata": {},
   "outputs": [
    {
     "name": "stdout",
     "output_type": "stream",
     "text": [
      "Important words in negative reviews\n",
      "0 64723.0 food\n",
      "0 52818.0 order\n",
      "0 52495.0 good\n",
      "0 44360.0 place\n",
      "0 35113.0 like\n",
      "0 33351.0 come\n",
      "0 32166.0 time\n",
      "0 30480.0 service\n",
      "0 24710.0 go\n",
      "0 24231.0 wait\n",
      "0 24101.0 get\n",
      "0 21790.0 restaurant\n",
      "0 20651.0 great\n",
      "0 20360.0 table\n",
      "0 19913.0 drink\n",
      "0 19887.0 try\n",
      "0 19534.0 chicken\n",
      "0 19198.0 eat\n",
      "0 19042.0 ask\n",
      "0 17539.0 minute\n",
      "-----------------------------------------\n",
      "Important words in positive reviews\n",
      "1 133011.0 good\n",
      "1 107969.0 food\n",
      "1 104157.0 great\n",
      "1 95450.0 place\n",
      "1 58662.0 nashville\n",
      "1 58042.0 order\n",
      "1 52575.0 time\n",
      "1 50387.0 come\n",
      "1 50232.0 service\n",
      "1 49752.0 chicken\n",
      "1 48420.0 like\n",
      "1 45739.0 love\n",
      "1 44965.0 try\n",
      "1 43396.0 delicious\n",
      "1 39609.0 get\n",
      "1 35383.0 amazing\n",
      "1 34810.0 go\n",
      "1 34254.0 restaurant\n",
      "1 34065.0 eat\n",
      "1 32930.0 wait\n"
     ]
    }
   ],
   "source": [
    "important_features(vect, nb, n=20)"
   ]
  }
 ],
 "metadata": {
  "kernelspec": {
   "display_name": "Python 3 (ipykernel)",
   "language": "python",
   "name": "python3"
  },
  "language_info": {
   "codemirror_mode": {
    "name": "ipython",
    "version": 3
   },
   "file_extension": ".py",
   "mimetype": "text/x-python",
   "name": "python",
   "nbconvert_exporter": "python",
   "pygments_lexer": "ipython3",
   "version": "3.10.9"
  }
 },
 "nbformat": 4,
 "nbformat_minor": 5
}
