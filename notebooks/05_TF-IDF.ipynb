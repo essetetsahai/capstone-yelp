{
 "cells": [
  {
   "cell_type": "code",
   "execution_count": 1,
   "id": "91f6b31e",
   "metadata": {},
   "outputs": [],
   "source": [
    "import pandas as pd\n",
    "import numpy as np\n",
    "import matplotlib.pyplot as plt\n",
    "import seaborn as sns\n",
    "import time\n",
    "from tqdm.notebook import tqdm"
   ]
  },
  {
   "cell_type": "code",
   "execution_count": 2,
   "id": "634450dd",
   "metadata": {},
   "outputs": [
    {
     "name": "stderr",
     "output_type": "stream",
     "text": [
      "C:\\Users\\16156\\AppData\\Local\\Temp\\ipykernel_23076\\1838378513.py:1: DtypeWarning: Columns (29) have mixed types. Specify dtype option on import or set low_memory=False.\n",
      "  df = pd.read_csv('../data/df_br_tokensb.csv').drop(columns = ['Unnamed: 0', 'category'])\n"
     ]
    },
    {
     "data": {
      "text/html": [
       "<div>\n",
       "<style scoped>\n",
       "    .dataframe tbody tr th:only-of-type {\n",
       "        vertical-align: middle;\n",
       "    }\n",
       "\n",
       "    .dataframe tbody tr th {\n",
       "        vertical-align: top;\n",
       "    }\n",
       "\n",
       "    .dataframe thead th {\n",
       "        text-align: right;\n",
       "    }\n",
       "</style>\n",
       "<table border=\"1\" class=\"dataframe\">\n",
       "  <thead>\n",
       "    <tr style=\"text-align: right;\">\n",
       "      <th></th>\n",
       "      <th>0</th>\n",
       "      <th>1</th>\n",
       "    </tr>\n",
       "  </thead>\n",
       "  <tbody>\n",
       "    <tr>\n",
       "      <th>business_id</th>\n",
       "      <td>ltBBYdNzkeKdCNPDAsxwAA</td>\n",
       "      <td>Zx7n8mdt8OzLRXVzolXNhQ</td>\n",
       "    </tr>\n",
       "    <tr>\n",
       "      <th>name</th>\n",
       "      <td>Tavern</td>\n",
       "      <td>Milk and Honey Nashville</td>\n",
       "    </tr>\n",
       "    <tr>\n",
       "      <th>address</th>\n",
       "      <td>1904 Broadway</td>\n",
       "      <td>214 11th Ave S</td>\n",
       "    </tr>\n",
       "    <tr>\n",
       "      <th>city</th>\n",
       "      <td>Nashville</td>\n",
       "      <td>Nashville</td>\n",
       "    </tr>\n",
       "    <tr>\n",
       "      <th>state</th>\n",
       "      <td>TN</td>\n",
       "      <td>TN</td>\n",
       "    </tr>\n",
       "    <tr>\n",
       "      <th>postal_code</th>\n",
       "      <td>37203.0</td>\n",
       "      <td>37203.0</td>\n",
       "    </tr>\n",
       "    <tr>\n",
       "      <th>latitude</th>\n",
       "      <td>36.1509</td>\n",
       "      <td>36.154702</td>\n",
       "    </tr>\n",
       "    <tr>\n",
       "      <th>longitude</th>\n",
       "      <td>-86.797012</td>\n",
       "      <td>-86.784541</td>\n",
       "    </tr>\n",
       "    <tr>\n",
       "      <th>overall_stars</th>\n",
       "      <td>4.0</td>\n",
       "      <td>4.0</td>\n",
       "    </tr>\n",
       "    <tr>\n",
       "      <th>review_count</th>\n",
       "      <td>1222</td>\n",
       "      <td>1725</td>\n",
       "    </tr>\n",
       "    <tr>\n",
       "      <th>is_open</th>\n",
       "      <td>1</td>\n",
       "      <td>1</td>\n",
       "    </tr>\n",
       "    <tr>\n",
       "      <th>attributes</th>\n",
       "      <td>{'BikeParking': 'True', 'Alcohol': \"u'full_bar...</td>\n",
       "      <td>{'WheelchairAccessible': 'True', 'RestaurantsP...</td>\n",
       "    </tr>\n",
       "    <tr>\n",
       "      <th>categories</th>\n",
       "      <td>Cocktail Bars, Nightlife, Gastropubs, Sports B...</td>\n",
       "      <td>American (New), Restaurants, American (Traditi...</td>\n",
       "    </tr>\n",
       "    <tr>\n",
       "      <th>hours</th>\n",
       "      <td>{'Monday': '0:0-0:0', 'Wednesday': '10:0-22:0'...</td>\n",
       "      <td>{'Monday': '0:0-0:0', 'Thursday': '6:30-15:0',...</td>\n",
       "    </tr>\n",
       "    <tr>\n",
       "      <th>clean_cat</th>\n",
       "      <td>American (New), Bars, Cocktail Bars, Gastropub...</td>\n",
       "      <td>American (New), American (Traditional), Breakf...</td>\n",
       "    </tr>\n",
       "    <tr>\n",
       "      <th>review_id</th>\n",
       "      <td>elqRpX9T3YwL07uLNtN3Bg</td>\n",
       "      <td>E9AB7V4z8xrt2uPF7T55FQ</td>\n",
       "    </tr>\n",
       "    <tr>\n",
       "      <th>user_id</th>\n",
       "      <td>-sryo4gDYxbZ1T5Bz4l5Bw</td>\n",
       "      <td>iYY5Ii1LGpZCpXFkHlMefw</td>\n",
       "    </tr>\n",
       "    <tr>\n",
       "      <th>review_stars</th>\n",
       "      <td>2</td>\n",
       "      <td>5</td>\n",
       "    </tr>\n",
       "    <tr>\n",
       "      <th>useful</th>\n",
       "      <td>0</td>\n",
       "      <td>0</td>\n",
       "    </tr>\n",
       "    <tr>\n",
       "      <th>funny</th>\n",
       "      <td>0</td>\n",
       "      <td>0</td>\n",
       "    </tr>\n",
       "    <tr>\n",
       "      <th>cool</th>\n",
       "      <td>0</td>\n",
       "      <td>0</td>\n",
       "    </tr>\n",
       "    <tr>\n",
       "      <th>date</th>\n",
       "      <td>2015-02-02 04:29:13</td>\n",
       "      <td>2018-04-27 23:03:21</td>\n",
       "    </tr>\n",
       "    <tr>\n",
       "      <th>review_stars.1</th>\n",
       "      <td>2</td>\n",
       "      <td>5</td>\n",
       "    </tr>\n",
       "    <tr>\n",
       "      <th>text</th>\n",
       "      <td>I at least have to give this restaurant two st...</td>\n",
       "      <td>Amazing biscuits and (fill in the blank). Grea...</td>\n",
       "    </tr>\n",
       "    <tr>\n",
       "      <th>clean</th>\n",
       "      <td>['restaurant', 'star', 'decent', 'food', 'dinn...</td>\n",
       "      <td>['amazing', 'biscuit', 'fill', 'blank', 'great...</td>\n",
       "    </tr>\n",
       "    <tr>\n",
       "      <th>text_length</th>\n",
       "      <td>473</td>\n",
       "      <td>101</td>\n",
       "    </tr>\n",
       "    <tr>\n",
       "      <th>polarity</th>\n",
       "      <td>0.079556</td>\n",
       "      <td>0.332</td>\n",
       "    </tr>\n",
       "    <tr>\n",
       "      <th>word_count</th>\n",
       "      <td>93</td>\n",
       "      <td>16</td>\n",
       "    </tr>\n",
       "  </tbody>\n",
       "</table>\n",
       "</div>"
      ],
      "text/plain": [
       "                                                                0  \\\n",
       "business_id                                ltBBYdNzkeKdCNPDAsxwAA   \n",
       "name                                                       Tavern   \n",
       "address                                             1904 Broadway   \n",
       "city                                                    Nashville   \n",
       "state                                                          TN   \n",
       "postal_code                                               37203.0   \n",
       "latitude                                                  36.1509   \n",
       "longitude                                              -86.797012   \n",
       "overall_stars                                                 4.0   \n",
       "review_count                                                 1222   \n",
       "is_open                                                         1   \n",
       "attributes      {'BikeParking': 'True', 'Alcohol': \"u'full_bar...   \n",
       "categories      Cocktail Bars, Nightlife, Gastropubs, Sports B...   \n",
       "hours           {'Monday': '0:0-0:0', 'Wednesday': '10:0-22:0'...   \n",
       "clean_cat       American (New), Bars, Cocktail Bars, Gastropub...   \n",
       "review_id                                  elqRpX9T3YwL07uLNtN3Bg   \n",
       "user_id                                    -sryo4gDYxbZ1T5Bz4l5Bw   \n",
       "review_stars                                                    2   \n",
       "useful                                                          0   \n",
       "funny                                                           0   \n",
       "cool                                                            0   \n",
       "date                                          2015-02-02 04:29:13   \n",
       "review_stars.1                                                  2   \n",
       "text            I at least have to give this restaurant two st...   \n",
       "clean           ['restaurant', 'star', 'decent', 'food', 'dinn...   \n",
       "text_length                                                   473   \n",
       "polarity                                                 0.079556   \n",
       "word_count                                                     93   \n",
       "\n",
       "                                                                1  \n",
       "business_id                                Zx7n8mdt8OzLRXVzolXNhQ  \n",
       "name                                     Milk and Honey Nashville  \n",
       "address                                            214 11th Ave S  \n",
       "city                                                    Nashville  \n",
       "state                                                          TN  \n",
       "postal_code                                               37203.0  \n",
       "latitude                                                36.154702  \n",
       "longitude                                              -86.784541  \n",
       "overall_stars                                                 4.0  \n",
       "review_count                                                 1725  \n",
       "is_open                                                         1  \n",
       "attributes      {'WheelchairAccessible': 'True', 'RestaurantsP...  \n",
       "categories      American (New), Restaurants, American (Traditi...  \n",
       "hours           {'Monday': '0:0-0:0', 'Thursday': '6:30-15:0',...  \n",
       "clean_cat       American (New), American (Traditional), Breakf...  \n",
       "review_id                                  E9AB7V4z8xrt2uPF7T55FQ  \n",
       "user_id                                    iYY5Ii1LGpZCpXFkHlMefw  \n",
       "review_stars                                                    5  \n",
       "useful                                                          0  \n",
       "funny                                                           0  \n",
       "cool                                                            0  \n",
       "date                                          2018-04-27 23:03:21  \n",
       "review_stars.1                                                  5  \n",
       "text            Amazing biscuits and (fill in the blank). Grea...  \n",
       "clean           ['amazing', 'biscuit', 'fill', 'blank', 'great...  \n",
       "text_length                                                   101  \n",
       "polarity                                                    0.332  \n",
       "word_count                                                     16  "
      ]
     },
     "execution_count": 2,
     "metadata": {},
     "output_type": "execute_result"
    }
   ],
   "source": [
    "df = pd.read_csv('../data/df_br_tokensb.csv').drop(columns = ['Unnamed: 0', 'category'])\n",
    "df.head(2).T"
   ]
  },
  {
   "cell_type": "code",
   "execution_count": null,
   "id": "284c6ae9",
   "metadata": {},
   "outputs": [],
   "source": [
    "from gensim import corpora"
   ]
  },
  {
   "cell_type": "code",
   "execution_count": null,
   "id": "28e5c271",
   "metadata": {},
   "outputs": [],
   "source": [
    "%%time\n",
    "tokenized_texts = [text.split() for text in df['clean']]"
   ]
  },
  {
   "cell_type": "code",
   "execution_count": null,
   "id": "c7600bc7",
   "metadata": {},
   "outputs": [],
   "source": [
    "%%time\n",
    "mydict = corpora.Dictionary(tokenized_texts)"
   ]
  },
  {
   "cell_type": "code",
   "execution_count": null,
   "id": "32c85fb7",
   "metadata": {},
   "outputs": [],
   "source": [
    "print(len(mydict.token2id))"
   ]
  },
  {
   "cell_type": "code",
   "execution_count": null,
   "id": "4406cf71",
   "metadata": {},
   "outputs": [],
   "source": [
    "i = 0\n",
    "# Print top 4 (word, id) tuples\n",
    "for key in mydict.token2id.keys():\n",
    "    print(\"Word: {} - ID: {} \".format(key, mydict.token2id[key]))\n",
    "    if i == 3:\n",
    "        break\n",
    "    i += 1"
   ]
  },
  {
   "cell_type": "code",
   "execution_count": 7,
   "id": "a5142eff",
   "metadata": {},
   "outputs": [],
   "source": [
    "X=df['clean']\n",
    "y= df['review_stars.1']"
   ]
  },
  {
   "cell_type": "code",
   "execution_count": 8,
   "id": "8e3d0aef",
   "metadata": {},
   "outputs": [],
   "source": [
    "from sklearn.model_selection import train_test_split\n",
    "X_train, X_test, y_train, y_test = train_test_split(X, y, test_size=0.33, random_state=42)"
   ]
  },
  {
   "cell_type": "code",
   "execution_count": null,
   "id": "24ce2a99",
   "metadata": {},
   "outputs": [],
   "source": [
    "#?\n",
    "# Train the tfidf Model \n",
    "from gensim.models import TfidfModel\n",
    "\n",
    "\n",
    "# Make sure the dictionary is created from the previous block\n",
    "# BOW corpus is required for tfidf model\n",
    "corpus = [mydict.doc2bow(line) for line in df['clean']]\n",
    "\n",
    "# TF-IDF Model\n",
    "tfidf_model = TfidfModel(corpus)"
   ]
  },
  {
   "cell_type": "code",
   "execution_count": 9,
   "id": "a9230a05",
   "metadata": {},
   "outputs": [],
   "source": [
    "from sklearn.feature_extraction.text import TfidfVectorizer\n",
    "vectorizer= TfidfVectorizer()\n",
    "tf_x_train = vectorizer.fit_transform(X_train)\n",
    "tf_x_test = vectorizer.transform(X_test)"
   ]
  },
  {
   "cell_type": "markdown",
   "id": "2a4b66b8",
   "metadata": {},
   "source": [
    "#### tf-idf vectorizer"
   ]
  },
  {
   "cell_type": "code",
   "execution_count": 7,
   "id": "f0d3b8ab",
   "metadata": {},
   "outputs": [],
   "source": [
    "from sklearn.svm import LinearSVC\n",
    "clf = LinearSVC(random_state=0)"
   ]
  },
  {
   "cell_type": "code",
   "execution_count": 8,
   "id": "7d3f22a4",
   "metadata": {},
   "outputs": [
    {
     "data": {
      "text/html": [
       "<style>#sk-container-id-1 {color: black;background-color: white;}#sk-container-id-1 pre{padding: 0;}#sk-container-id-1 div.sk-toggleable {background-color: white;}#sk-container-id-1 label.sk-toggleable__label {cursor: pointer;display: block;width: 100%;margin-bottom: 0;padding: 0.3em;box-sizing: border-box;text-align: center;}#sk-container-id-1 label.sk-toggleable__label-arrow:before {content: \"▸\";float: left;margin-right: 0.25em;color: #696969;}#sk-container-id-1 label.sk-toggleable__label-arrow:hover:before {color: black;}#sk-container-id-1 div.sk-estimator:hover label.sk-toggleable__label-arrow:before {color: black;}#sk-container-id-1 div.sk-toggleable__content {max-height: 0;max-width: 0;overflow: hidden;text-align: left;background-color: #f0f8ff;}#sk-container-id-1 div.sk-toggleable__content pre {margin: 0.2em;color: black;border-radius: 0.25em;background-color: #f0f8ff;}#sk-container-id-1 input.sk-toggleable__control:checked~div.sk-toggleable__content {max-height: 200px;max-width: 100%;overflow: auto;}#sk-container-id-1 input.sk-toggleable__control:checked~label.sk-toggleable__label-arrow:before {content: \"▾\";}#sk-container-id-1 div.sk-estimator input.sk-toggleable__control:checked~label.sk-toggleable__label {background-color: #d4ebff;}#sk-container-id-1 div.sk-label input.sk-toggleable__control:checked~label.sk-toggleable__label {background-color: #d4ebff;}#sk-container-id-1 input.sk-hidden--visually {border: 0;clip: rect(1px 1px 1px 1px);clip: rect(1px, 1px, 1px, 1px);height: 1px;margin: -1px;overflow: hidden;padding: 0;position: absolute;width: 1px;}#sk-container-id-1 div.sk-estimator {font-family: monospace;background-color: #f0f8ff;border: 1px dotted black;border-radius: 0.25em;box-sizing: border-box;margin-bottom: 0.5em;}#sk-container-id-1 div.sk-estimator:hover {background-color: #d4ebff;}#sk-container-id-1 div.sk-parallel-item::after {content: \"\";width: 100%;border-bottom: 1px solid gray;flex-grow: 1;}#sk-container-id-1 div.sk-label:hover label.sk-toggleable__label {background-color: #d4ebff;}#sk-container-id-1 div.sk-serial::before {content: \"\";position: absolute;border-left: 1px solid gray;box-sizing: border-box;top: 0;bottom: 0;left: 50%;z-index: 0;}#sk-container-id-1 div.sk-serial {display: flex;flex-direction: column;align-items: center;background-color: white;padding-right: 0.2em;padding-left: 0.2em;position: relative;}#sk-container-id-1 div.sk-item {position: relative;z-index: 1;}#sk-container-id-1 div.sk-parallel {display: flex;align-items: stretch;justify-content: center;background-color: white;position: relative;}#sk-container-id-1 div.sk-item::before, #sk-container-id-1 div.sk-parallel-item::before {content: \"\";position: absolute;border-left: 1px solid gray;box-sizing: border-box;top: 0;bottom: 0;left: 50%;z-index: -1;}#sk-container-id-1 div.sk-parallel-item {display: flex;flex-direction: column;z-index: 1;position: relative;background-color: white;}#sk-container-id-1 div.sk-parallel-item:first-child::after {align-self: flex-end;width: 50%;}#sk-container-id-1 div.sk-parallel-item:last-child::after {align-self: flex-start;width: 50%;}#sk-container-id-1 div.sk-parallel-item:only-child::after {width: 0;}#sk-container-id-1 div.sk-dashed-wrapped {border: 1px dashed gray;margin: 0 0.4em 0.5em 0.4em;box-sizing: border-box;padding-bottom: 0.4em;background-color: white;}#sk-container-id-1 div.sk-label label {font-family: monospace;font-weight: bold;display: inline-block;line-height: 1.2em;}#sk-container-id-1 div.sk-label-container {text-align: center;}#sk-container-id-1 div.sk-container {/* jupyter's `normalize.less` sets `[hidden] { display: none; }` but bootstrap.min.css set `[hidden] { display: none !important; }` so we also need the `!important` here to be able to override the default hidden behavior on the sphinx rendered scikit-learn.org. See: https://github.com/scikit-learn/scikit-learn/issues/21755 */display: inline-block !important;position: relative;}#sk-container-id-1 div.sk-text-repr-fallback {display: none;}</style><div id=\"sk-container-id-1\" class=\"sk-top-container\"><div class=\"sk-text-repr-fallback\"><pre>LinearSVC(random_state=0)</pre><b>In a Jupyter environment, please rerun this cell to show the HTML representation or trust the notebook. <br />On GitHub, the HTML representation is unable to render, please try loading this page with nbviewer.org.</b></div><div class=\"sk-container\" hidden><div class=\"sk-item\"><div class=\"sk-estimator sk-toggleable\"><input class=\"sk-toggleable__control sk-hidden--visually\" id=\"sk-estimator-id-1\" type=\"checkbox\" checked><label for=\"sk-estimator-id-1\" class=\"sk-toggleable__label sk-toggleable__label-arrow\">LinearSVC</label><div class=\"sk-toggleable__content\"><pre>LinearSVC(random_state=0)</pre></div></div></div></div></div>"
      ],
      "text/plain": [
       "LinearSVC(random_state=0)"
      ]
     },
     "execution_count": 8,
     "metadata": {},
     "output_type": "execute_result"
    }
   ],
   "source": [
    "clf.fit(tf_x_train,y_train)"
   ]
  },
  {
   "cell_type": "code",
   "execution_count": 9,
   "id": "1ca9b987",
   "metadata": {},
   "outputs": [],
   "source": [
    "y_test_pred=clf.predict(tf_x_test)"
   ]
  },
  {
   "cell_type": "code",
   "execution_count": 10,
   "id": "aa1ccc1d",
   "metadata": {},
   "outputs": [
    {
     "name": "stdout",
     "output_type": "stream",
     "text": [
      "              precision    recall  f1-score   support\n",
      "\n",
      "           1       0.66      0.77      0.72     11478\n",
      "           2       0.42      0.25      0.31      8703\n",
      "           3       0.45      0.30      0.36     12243\n",
      "           4       0.48      0.38      0.43     25237\n",
      "           5       0.73      0.88      0.80     50037\n",
      "\n",
      "    accuracy                           0.64    107698\n",
      "   macro avg       0.55      0.52      0.52    107698\n",
      "weighted avg       0.61      0.64      0.61    107698\n",
      "\n"
     ]
    }
   ],
   "source": [
    "from sklearn.metrics import classification_report\n",
    "print(classification_report(y_test, y_test_pred))"
   ]
  },
  {
   "cell_type": "code",
   "execution_count": 11,
   "id": "a378cab6",
   "metadata": {},
   "outputs": [],
   "source": [
    "from sklearn.linear_model import LogisticRegression\n",
    "clf = LogisticRegression(max_iter=1000)"
   ]
  },
  {
   "cell_type": "code",
   "execution_count": null,
   "id": "cac62597",
   "metadata": {},
   "outputs": [],
   "source": [
    "clf.fit(tf_x_train,y_train)\n",
    "y_test_pred=clf.predict(tf_x_test)"
   ]
  },
  {
   "cell_type": "code",
   "execution_count": 20,
   "id": "29324e5e",
   "metadata": {},
   "outputs": [
    {
     "name": "stdout",
     "output_type": "stream",
     "text": [
      "              precision    recall  f1-score   support\n",
      "\n",
      "           1       0.69      0.77      0.73     11478\n",
      "           2       0.46      0.32      0.38      8703\n",
      "           3       0.48      0.37      0.42     12243\n",
      "           4       0.52      0.43      0.47     25237\n",
      "           5       0.75      0.87      0.81     50037\n",
      "\n",
      "    accuracy                           0.66    107698\n",
      "   macro avg       0.58      0.55      0.56    107698\n",
      "weighted avg       0.63      0.66      0.64    107698\n",
      "\n"
     ]
    }
   ],
   "source": [
    "print(classification_report(y_test, y_test_pred))"
   ]
  },
  {
   "cell_type": "code",
   "execution_count": 21,
   "id": "fac0f6f1",
   "metadata": {
    "scrolled": true
   },
   "outputs": [
    {
     "data": {
      "image/png": "[encoded data removed]",
      "text/plain": [
       "<Figure size 500x500 with 2 Axes>"
      ]
     },
     "metadata": {},
     "output_type": "display_data"
    }
   ],
   "source": [
    "from sklearn.metrics import confusion_matrix\n",
    "import seaborn as sns\n",
    "\n",
    "cm = confusion_matrix(y_test, y_test_pred)\n",
    "# Normalise\n",
    "cmn = cm.astype('float') / cm.sum(axis=1)[:, np.newaxis]\n",
    "fig, ax = plt.subplots(figsize=(5, 5))\n",
    "sns.heatmap(cmn, annot=True, fmt='.2f')\n",
    "plt.ylabel('Actual')\n",
    "plt.xlabel('Predicted')\n",
    "ax.xaxis.set_ticklabels(['1', '2', '3', '4', '5'])\n",
    "ax.yaxis.set_ticklabels(['1', '2', '3', '4', '5'])\n",
    "\n",
    "plt.show(block=False)"
   ]
  },
  {
   "cell_type": "markdown",
   "id": "31281f13",
   "metadata": {},
   "source": [
    "### tf-idf with ngram_range (1,2)"
   ]
  },
  {
   "cell_type": "code",
   "execution_count": 22,
   "id": "66721f9d",
   "metadata": {},
   "outputs": [
    {
     "name": "stdout",
     "output_type": "stream",
     "text": [
      "CPU times: total: 32.5 s\n",
      "Wall time: 32.6 s\n"
     ]
    }
   ],
   "source": [
    "%%time\n",
    "\n",
    "vectorizer= TfidfVectorizer(ngram_range=(1,2))\n",
    "tf_x_train = vectorizer.fit_transform(X_train)\n",
    "tf_x_test = vectorizer.transform(X_test)"
   ]
  },
  {
   "cell_type": "markdown",
   "id": "f10418b5",
   "metadata": {},
   "source": [
    "### Logistic Regression"
   ]
  },
  {
   "cell_type": "code",
   "execution_count": 23,
   "id": "9564693e",
   "metadata": {},
   "outputs": [
    {
     "name": "stdout",
     "output_type": "stream",
     "text": [
      "              precision    recall  f1-score   support\n",
      "\n",
      "           1       0.70      0.76      0.73     11478\n",
      "           2       0.47      0.31      0.37      8703\n",
      "           3       0.51      0.38      0.43     12243\n",
      "           4       0.53      0.46      0.49     25237\n",
      "           5       0.75      0.88      0.81     50037\n",
      "\n",
      "    accuracy                           0.67    107698\n",
      "   macro avg       0.59      0.56      0.57    107698\n",
      "weighted avg       0.65      0.67      0.65    107698\n",
      "\n",
      "CPU times: total: 34.3 s\n",
      "Wall time: 34.4 s\n"
     ]
    }
   ],
   "source": [
    "%%time\n",
    "\n",
    "clf = LogisticRegression(max_iter=1000,solver='saga')\n",
    "\n",
    "clf.fit(tf_x_train,y_train)\n",
    "\n",
    "y_test_pred=clf.predict(tf_x_test)\n",
    "\n",
    "print(classification_report(y_test, y_test_pred))"
   ]
  },
  {
   "cell_type": "code",
   "execution_count": 24,
   "id": "85a1fa19",
   "metadata": {},
   "outputs": [
    {
     "data": {
      "text/plain": [
       "0.568"
      ]
     },
     "execution_count": 24,
     "metadata": {},
     "output_type": "execute_result"
    }
   ],
   "source": [
    "(.73+.38+.43+.49+.81)/5"
   ]
  },
  {
   "cell_type": "code",
   "execution_count": 25,
   "id": "7e901a59",
   "metadata": {},
   "outputs": [
    {
     "name": "stderr",
     "output_type": "stream",
     "text": [
      "\n",
      "KeyboardInterrupt\n",
      "\n"
     ]
    }
   ],
   "source": [
    "%%time\n",
    "lr = LogisticRegression(penalty='l2', max_iter=1000, C=1)\n",
    "lr.fit(tf_x_train,y_train)\n",
    "y_test_pred=lr.predict(tf_x_test)\n",
    "print(classification_report(y_test, y_test_pred))"
   ]
  },
  {
   "cell_type": "markdown",
   "id": "76014448",
   "metadata": {},
   "source": [
    "Random Forest\n",
    "increase ngram 3\n",
    "-interpretation"
   ]
  },
  {
   "cell_type": "markdown",
   "id": "1d566394",
   "metadata": {},
   "source": [
    "#### Random Forest"
   ]
  },
  {
   "cell_type": "code",
   "execution_count": null,
   "id": "0d34a66a",
   "metadata": {},
   "outputs": [],
   "source": [
    "%%time\n",
    "from sklearn.ensemble import RandomForestClassifier\n",
    "from sklearn.model_selection import GridSearchCV, cross_val_score\n",
    "\n",
    "\n",
    "rf = RandomForestClassifier(max_leaf_nodes=15, n_estimators=1250)\n",
    "rf.fit(tf_x_train, y_train)\n",
    "y_train_pred_rf = rf.predict(tf_x_train)\n",
    "y_test_pred_rf = rf.predict(tf_x_test)"
   ]
  },
  {
   "cell_type": "code",
   "execution_count": null,
   "id": "f654f31c",
   "metadata": {},
   "outputs": [],
   "source": [
    " from sklearn.metrics import f1_score\n",
    "print('Train F1 Score: ', f1_score(y_train, y_train_pred_rf, average='macro'))\n",
    "print('Test F1 Score: ', f1_score(y_test, y_test_pred_rf, average='macro'))"
   ]
  },
  {
   "cell_type": "code",
   "execution_count": null,
   "id": "d3624bda",
   "metadata": {},
   "outputs": [],
   "source": [
    "print(classification_report(y_test, y_test_pred_rf))"
   ]
  },
  {
   "cell_type": "markdown",
   "id": "973ea30c",
   "metadata": {},
   "source": [
    "### Count Vectorizer"
   ]
  },
  {
   "cell_type": "code",
   "execution_count": 10,
   "id": "4097b814",
   "metadata": {},
   "outputs": [],
   "source": [
    "from sklearn.feature_extraction.text import CountVectorizer"
   ]
  },
  {
   "cell_type": "code",
   "execution_count": 11,
   "id": "beec975b",
   "metadata": {},
   "outputs": [],
   "source": [
    "X = df[['text']]\n",
    "y = df['review_stars']\n",
    "\n",
    "X_train, X_test, y_train, y_test = train_test_split(X, y, random_state = 321, stratify = y)"
   ]
  },
  {
   "cell_type": "code",
   "execution_count": 12,
   "id": "952a548a",
   "metadata": {},
   "outputs": [
    {
     "name": "stdout",
     "output_type": "stream",
     "text": [
      "CPU times: total: 18.2 s\n",
      "Wall time: 18.2 s\n"
     ]
    }
   ],
   "source": [
    "%%time\n",
    "vect = CountVectorizer()\n",
    "\n",
    "X_train_vec = vect.fit_transform(X_train['text'])\n",
    "X_test_vec = vect.transform(X_test['text'])"
   ]
  },
  {
   "cell_type": "markdown",
   "id": "9fb26979",
   "metadata": {},
   "source": [
    "#### Multinomial NB"
   ]
  },
  {
   "cell_type": "code",
   "execution_count": 14,
   "id": "e43e9de7",
   "metadata": {},
   "outputs": [],
   "source": [
    "from sklearn.naive_bayes import MultinomialNB"
   ]
  },
  {
   "cell_type": "code",
   "execution_count": 15,
   "id": "fb566566",
   "metadata": {},
   "outputs": [
    {
     "name": "stdout",
     "output_type": "stream",
     "text": [
      "CPU times: total: 125 ms\n",
      "Wall time: 124 ms\n"
     ]
    }
   ],
   "source": [
    "%%time\n",
    "nb = MultinomialNB().fit(X_train_vec, y_train)"
   ]
  },
  {
   "cell_type": "code",
   "execution_count": 16,
   "id": "8abfaaa2",
   "metadata": {},
   "outputs": [],
   "source": [
    "y_pred = nb.predict(X_test_vec)"
   ]
  },
  {
   "cell_type": "code",
   "execution_count": 17,
   "id": "3a34afee",
   "metadata": {},
   "outputs": [
    {
     "data": {
      "text/plain": [
       "0.6438613048327593"
      ]
     },
     "execution_count": 17,
     "metadata": {},
     "output_type": "execute_result"
    }
   ],
   "source": [
    "from sklearn.metrics import accuracy_score\n",
    "accuracy_score(y_test, y_pred)"
   ]
  },
  {
   "cell_type": "code",
   "execution_count": 19,
   "id": "6ef31891",
   "metadata": {},
   "outputs": [
    {
     "data": {
      "image/png": "[encoded data removed]",
      "text/plain": [
       "<Figure size 500x500 with 2 Axes>"
      ]
     },
     "metadata": {},
     "output_type": "display_data"
    }
   ],
   "source": [
    "from sklearn.metrics import confusion_matrix\n",
    "\n",
    "cm = confusion_matrix(y_test, y_pred)\n",
    "# Normalise\n",
    "cmn = cm.astype('float') / cm.sum(axis=1)[:, np.newaxis]\n",
    "fig, ax = plt.subplots(figsize=(5, 5))\n",
    "sns.heatmap(cmn, annot=True, fmt='.2f')\n",
    "plt.ylabel('Actual')\n",
    "plt.xlabel('Predicted')\n",
    "ax.xaxis.set_ticklabels(['1', '2', '3', '4', '5'])\n",
    "ax.yaxis.set_ticklabels(['1', '2', '3', '4', '5'])\n",
    "\n",
    "plt.show(block=False)"
   ]
  },
  {
   "cell_type": "code",
   "execution_count": 20,
   "id": "f93dfa35",
   "metadata": {},
   "outputs": [],
   "source": [
    "#ratings to binary 0/1\n",
    "#negative if <=3, positive if >3\n",
    "df['binary_st'] = np.where(df['review_stars'] <= 3, 0, 1)"
   ]
  },
  {
   "cell_type": "code",
   "execution_count": 26,
   "id": "635d244f",
   "metadata": {},
   "outputs": [],
   "source": [
    "#ratings 0/1/2\n",
    "rating_mapping = {1: 0, 2: 0, 3: 1, 4: 2, 5: 2}\n",
    "df['tri_st'] = df['review_stars'].map(rating_mapping)"
   ]
  },
  {
   "cell_type": "code",
   "execution_count": null,
   "id": "5e2bebad",
   "metadata": {},
   "outputs": [],
   "source": [
    "from nltk import wordpunct_tokenize\n",
    "from nltk.corpus import stopwords\n",
    "from nltk.stem import WordNetLemmatizer\n",
    "from langdetect import detect\n",
    "\n",
    "def remove_non_english_tokens(tokens):\n",
    "    english_tokens = []\n",
    "    \n",
    "    for token in tokens:\n",
    "        try:\n",
    "            if detect(token) == 'en':\n",
    "                english_tokens.append(token)\n",
    "        except:\n",
    "            pass\n",
    "    \n",
    "    return english_tokens\n",
    "\n",
    "\n",
    "df['Tokens'] = df['clean'].apply(remove_non_english_tokens)\n"
   ]
  },
  {
   "cell_type": "code",
   "execution_count": 4,
   "id": "4c93c210",
   "metadata": {},
   "outputs": [],
   "source": [
    "df['clean'] = df['clean'].str.replace('\\d+', '', regex = True)"
   ]
  },
  {
   "cell_type": "code",
   "execution_count": 5,
   "id": "b6800685",
   "metadata": {},
   "outputs": [
    {
     "data": {
      "text/plain": [
       "0         ['restaurant', 'star', 'decent', 'food', 'dinn...\n",
       "1         ['amazing', 'biscuit', 'fill', 'blank', 'great...\n",
       "2         ['stop', 'sunday', 'morning', 'walk', 'park', ...\n",
       "3         ['honestly', 'food', 'knock', 'sock', 'people'...\n",
       "4         ['man', 'place', 'nice', 'bartender', 'awesome...\n",
       "                                ...                        \n",
       "326351    ['slow', 'slowwwww', 'sllllooooowwwww', 'servi...\n",
       "326352    ['nice', 'place', 'eat', 'pack', 'want', 'earl...\n",
       "326353    ['strand', 'nashville', 'extra', 'day', 'cance...\n",
       "326354    ['supper', 'club', 'ridiculously', 'expensive'...\n",
       "326355    ['locate', 'walk', 'district', 'nashville', 'b...\n",
       "Name: clean, Length: 326356, dtype: object"
      ]
     },
     "execution_count": 5,
     "metadata": {},
     "output_type": "execute_result"
    }
   ],
   "source": [
    "df['clean']"
   ]
  },
  {
   "cell_type": "markdown",
   "id": "fcbb86da",
   "metadata": {},
   "source": [
    "### count vectorizer unigram, 2-levels"
   ]
  },
  {
   "cell_type": "code",
   "execution_count": 30,
   "id": "79c77e82",
   "metadata": {},
   "outputs": [],
   "source": [
    "X = df[['clean']]\n",
    "y = df['binary_st']\n",
    "\n",
    "from sklearn.model_selection import train_test_split\n",
    "\n",
    "X_train, X_test, y_train, y_test = train_test_split(X, y, random_state = 321, stratify = y)\n",
    "\n",
    "vect = CountVectorizer()\n",
    "X_train_vec = vect.fit_transform(X_train['clean'])\n",
    "X_test_vec = vect.transform(X_test['clean'])"
   ]
  },
  {
   "cell_type": "code",
   "execution_count": 31,
   "id": "8860f5e5",
   "metadata": {},
   "outputs": [],
   "source": [
    "nb = MultinomialNB().fit(X_train_vec, y_train)\n",
    "y_pred = nb.predict(X_test_vec)"
   ]
  },
  {
   "cell_type": "code",
   "execution_count": 32,
   "id": "af6d4f75",
   "metadata": {},
   "outputs": [
    {
     "data": {
      "text/plain": [
       "0.8838814055816347"
      ]
     },
     "execution_count": 32,
     "metadata": {},
     "output_type": "execute_result"
    }
   ],
   "source": [
    "accuracy_score(y_test, y_pred)"
   ]
  },
  {
   "cell_type": "code",
   "execution_count": 33,
   "id": "7202a41e",
   "metadata": {},
   "outputs": [
    {
     "name": "stdout",
     "output_type": "stream",
     "text": [
      "              precision    recall  f1-score   support\n",
      "\n",
      "           0       0.83      0.77      0.80     24621\n",
      "           1       0.90      0.93      0.92     56968\n",
      "\n",
      "    accuracy                           0.88     81589\n",
      "   macro avg       0.87      0.85      0.86     81589\n",
      "weighted avg       0.88      0.88      0.88     81589\n",
      "\n"
     ]
    }
   ],
   "source": [
    "from sklearn.metrics import classification_report\n",
    "print(classification_report(y_test, y_pred))"
   ]
  },
  {
   "cell_type": "code",
   "execution_count": 34,
   "id": "335a771c",
   "metadata": {},
   "outputs": [
    {
     "data": {
      "text/plain": [
       "array(['__kgqzekgsbkfqnddba', '_dxwnxvfg', '_t', ..., '饺子', '鳥唐揚げ', '麻辣'],\n",
       "      dtype=object)"
      ]
     },
     "execution_count": 34,
     "metadata": {},
     "output_type": "execute_result"
    }
   ],
   "source": [
    "vect.get_feature_names_out()"
   ]
  },
  {
   "cell_type": "code",
   "execution_count": null,
   "id": "78d4605c",
   "metadata": {},
   "outputs": [],
   "source": [
    "#BINARY IMPORTANT FEATURES"
   ]
  },
  {
   "cell_type": "code",
   "execution_count": 35,
   "id": "ac8b2c15",
   "metadata": {},
   "outputs": [],
   "source": [
    "def important_features(vectorizer,classifier,n=40):\n",
    "    class_labels = classifier.classes_\n",
    "    feature_names =vectorizer.get_feature_names_out()\n",
    "\n",
    "    topn_class1 = sorted(zip(classifier.feature_count_[0], feature_names),reverse=True)[:n]\n",
    "    topn_class2 = sorted(zip(classifier.feature_count_[1], feature_names),reverse=True)[:n]\n",
    "\n",
    "    print(\"Important words in negative reviews\")\n",
    "\n",
    "    for coef, feat in topn_class1:\n",
    "        print(class_labels[0], coef, feat)\n",
    "\n",
    "    print(\"-----------------------------------------\")\n",
    "    print(\"Important words in positive reviews\")\n",
    "\n",
    "    for coef, feat in topn_class2:\n",
    "        print(class_labels[1], coef, feat)"
   ]
  },
  {
   "cell_type": "code",
   "execution_count": 36,
   "id": "f17f2f53",
   "metadata": {},
   "outputs": [
    {
     "name": "stdout",
     "output_type": "stream",
     "text": [
      "Important words in negative reviews\n",
      "0 64723.0 food\n",
      "0 52819.0 order\n",
      "0 52495.0 good\n",
      "0 44360.0 place\n",
      "0 35113.0 like\n",
      "0 33351.0 come\n",
      "0 32167.0 time\n",
      "0 30481.0 service\n",
      "0 24713.0 go\n",
      "0 24231.0 wait\n",
      "0 24101.0 get\n",
      "0 21790.0 restaurant\n",
      "0 20651.0 great\n",
      "0 20361.0 table\n",
      "0 19914.0 drink\n",
      "0 19887.0 try\n",
      "0 19534.0 chicken\n",
      "0 19212.0 eat\n",
      "0 19042.0 ask\n",
      "0 17587.0 minute\n",
      "0 17464.0 bad\n",
      "0 17115.0 want\n",
      "0 17035.0 say\n",
      "0 14929.0 bar\n",
      "0 14735.0 take\n",
      "0 14701.0 tell\n",
      "0 14578.0 nashville\n",
      "0 14473.0 well\n",
      "0 14338.0 think\n",
      "0 14223.0 look\n",
      "0 14167.0 taste\n",
      "0 13599.0 experience\n",
      "0 13482.0 menu\n",
      "0 13345.0 server\n",
      "0 12876.0 people\n",
      "0 12625.0 know\n",
      "0 12127.0 leave\n",
      "0 11998.0 nice\n",
      "0 11782.0 pretty\n",
      "0 11280.0 cheese\n",
      "-----------------------------------------\n",
      "Important words in positive reviews\n",
      "1 133011.0 good\n",
      "1 107969.0 food\n",
      "1 104157.0 great\n",
      "1 95450.0 place\n",
      "1 58663.0 nashville\n",
      "1 58042.0 order\n",
      "1 52576.0 time\n",
      "1 50387.0 come\n",
      "1 50232.0 service\n",
      "1 49752.0 chicken\n",
      "1 48420.0 like\n",
      "1 45739.0 love\n",
      "1 44965.0 try\n",
      "1 43396.0 delicious\n",
      "1 39609.0 get\n",
      "1 35383.0 amazing\n",
      "1 34811.0 go\n",
      "1 34254.0 restaurant\n",
      "1 34077.0 eat\n",
      "1 32930.0 wait\n",
      "1 31499.0 definitely\n",
      "1 30063.0 drink\n",
      "1 29981.0 hot\n",
      "1 28597.0 menu\n",
      "1 28485.0 nice\n",
      "1 27619.0 friendly\n",
      "1 27407.0 cheese\n",
      "1 26327.0 recommend\n",
      "1 26272.0 bar\n",
      "1 25396.0 staff\n",
      "1 24787.0 little\n",
      "1 22821.0 fry\n",
      "1 22119.0 table\n",
      "1 21819.0 experience\n",
      "1 21517.0 want\n",
      "1 21335.0 burger\n",
      "1 21192.0 visit\n",
      "1 21053.0 enjoy\n",
      "1 20629.0 meal\n",
      "1 20547.0 look\n"
     ]
    }
   ],
   "source": [
    "important_features(vect, nb, n=40)"
   ]
  },
  {
   "cell_type": "markdown",
   "id": "a1fd100a",
   "metadata": {},
   "source": [
    "### Count vectorizer with bigram using 5 levels"
   ]
  },
  {
   "cell_type": "code",
   "execution_count": 39,
   "id": "d7aa5b1a",
   "metadata": {},
   "outputs": [],
   "source": [
    "X = df[['clean']]\n",
    "y = df['review_stars']\n",
    "\n",
    "X_train, X_test, y_train, y_test = train_test_split(X, y, random_state = 321, stratify = y)\n",
    "\n",
    "vect = CountVectorizer(ngram_range=(2, 2))\n",
    "\n",
    "X_train_vec = vect.fit_transform(X_train['clean'])\n",
    "X_test_vec = vect.transform(X_test['clean'])"
   ]
  },
  {
   "cell_type": "code",
   "execution_count": 40,
   "id": "951c4e1d",
   "metadata": {},
   "outputs": [
    {
     "name": "stdout",
     "output_type": "stream",
     "text": [
      "CPU times: total: 688 ms\n",
      "Wall time: 681 ms\n"
     ]
    }
   ],
   "source": [
    "%%time\n",
    "nb = MultinomialNB().fit(X_train_vec, y_train)\n",
    "y_pred = nb.predict(X_test_vec)"
   ]
  },
  {
   "cell_type": "code",
   "execution_count": 41,
   "id": "e5daa1cc",
   "metadata": {},
   "outputs": [
    {
     "name": "stdout",
     "output_type": "stream",
     "text": [
      "              precision    recall  f1-score   support\n",
      "\n",
      "           1       0.71      0.69      0.70      8756\n",
      "           2       0.42      0.08      0.14      6577\n",
      "           3       0.36      0.11      0.17      9288\n",
      "           4       0.38      0.29      0.33     19174\n",
      "           5       0.66      0.94      0.77     37794\n",
      "\n",
      "    accuracy                           0.60     81589\n",
      "   macro avg       0.51      0.42      0.42     81589\n",
      "weighted avg       0.55      0.60      0.54     81589\n",
      "\n"
     ]
    }
   ],
   "source": [
    "print(classification_report(y_test, y_pred))"
   ]
  },
  {
   "cell_type": "code",
   "execution_count": 42,
   "id": "dd4f26a9",
   "metadata": {},
   "outputs": [
    {
     "data": {
      "text/plain": [
       "array([0., 0., 1., ..., 0., 0., 0.])"
      ]
     },
     "execution_count": 42,
     "metadata": {},
     "output_type": "execute_result"
    }
   ],
   "source": [
    "nb.feature_count_[2]"
   ]
  },
  {
   "cell_type": "code",
   "execution_count": 43,
   "id": "2e9096bd",
   "metadata": {},
   "outputs": [],
   "source": [
    "def important_featuresb(vectorizer,classifier,n=40):\n",
    "    class_labels = classifier.classes_\n",
    "    feature_names =vectorizer.get_feature_names_out()\n",
    "\n",
    "    topn_class1 = sorted(zip(classifier.feature_count_[0], feature_names),reverse=True)[:n]\n",
    "    topn_class2 = sorted(zip(classifier.feature_count_[1], feature_names),reverse=True)[:n]\n",
    "    topn_class3 = sorted(zip(classifier.feature_count_[2], feature_names),reverse=True)[:n]\n",
    "    topn_class4 = sorted(zip(classifier.feature_count_[3], feature_names),reverse=True)[:n]\n",
    "    topn_class5 = sorted(zip(classifier.feature_count_[4], feature_names),reverse=True)[:n]\n",
    "\n",
    "\n",
    "    \n",
    "\n",
    "    print(\"Important words in 1 star\")\n",
    "\n",
    "    for coef, feat in topn_class1:\n",
    "        print(class_labels[0], coef, feat)\n",
    "\n",
    "    print(\"-----------------------------------------\")\n",
    "    print(\"Important words in 2 star reviews\")\n",
    "\n",
    "    for coef, feat in topn_class2:\n",
    "        print(class_labels[1], coef, feat)\n",
    "        \n",
    "    print(\"-----------------------------------------\")\n",
    "    print(\"Important words in 3 star reviews\")\n",
    "    \n",
    "    for coef, feat in topn_class3:\n",
    "        print(class_labels[2], coef, feat)\n",
    "        \n",
    "    print(\"-----------------------------------------\")\n",
    "    print(\"Important words in 4 star reviews\")\n",
    "    \n",
    "    for coef, feat in topn_class4:\n",
    "        print(class_labels[3], coef, feat)\n",
    "        \n",
    "    print(\"-----------------------------------------\")\n",
    "    print(\"Important words in 5 star reviews\")\n",
    "    \n",
    "    for coef, feat in topn_class5:\n",
    "        print(class_labels[4], coef, feat)\n"
   ]
  },
  {
   "cell_type": "code",
   "execution_count": 44,
   "id": "df9a9fb6",
   "metadata": {},
   "outputs": [
    {
     "name": "stdout",
     "output_type": "stream",
     "text": [
      "Important words in 1 star\n",
      "1 1806.0 customer service\n",
      "1 1651.0 wait minute\n",
      "1 1481.0 taste like\n",
      "1 1021.0 look like\n",
      "1 903.0 take minute\n",
      "1 870.0 food good\n",
      "1 820.0 place order\n",
      "1 802.0 minute later\n",
      "1 801.0 bad service\n",
      "1 776.0 wait hour\n",
      "-----------------------------------------\n",
      "Important words in 2 star reviews\n",
      "2 1353.0 taste like\n",
      "2 1168.0 food good\n",
      "2 918.0 wait minute\n",
      "2 910.0 feel like\n",
      "2 804.0 mac cheese\n",
      "2 772.0 pretty good\n",
      "2 755.0 look like\n",
      "2 646.0 take minute\n",
      "2 625.0 hot chicken\n",
      "2 600.0 customer service\n",
      "-----------------------------------------\n",
      "Important words in 3 star reviews\n",
      "3 2244.0 food good\n",
      "3 2131.0 pretty good\n",
      "3 1458.0 mac cheese\n",
      "3 1367.0 feel like\n",
      "3 1333.0 hot chicken\n",
      "3 1109.0 taste like\n",
      "3 976.0 good food\n",
      "3 922.0 service good\n",
      "3 781.0 good service\n",
      "3 767.0 happy hour\n",
      "-----------------------------------------\n",
      "Important words in 4 star reviews\n",
      "4 3650.0 food good\n",
      "4 3637.0 hot chicken\n",
      "4 3621.0 mac cheese\n",
      "4 2884.0 pretty good\n",
      "4 2535.0 good food\n",
      "4 2282.0 great place\n",
      "4 1966.0 food great\n",
      "4 1912.0 highly recommend\n",
      "4 1844.0 great food\n",
      "4 1843.0 feel like\n",
      "-----------------------------------------\n",
      "Important words in 5 star reviews\n",
      "5 8358.0 highly recommend\n",
      "5 6415.0 hot chicken\n",
      "5 6236.0 mac cheese\n",
      "5 5748.0 great food\n",
      "5 4415.0 great service\n",
      "5 4375.0 food great\n",
      "5 4179.0 love place\n",
      "5 3796.0 service great\n",
      "5 3514.0 great place\n",
      "5 3223.0 visit nashville\n"
     ]
    }
   ],
   "source": [
    "important_featuresb(vect, nb, n=10)"
   ]
  },
  {
   "cell_type": "code",
   "execution_count": 46,
   "id": "72f25ab5",
   "metadata": {},
   "outputs": [],
   "source": [
    "def not_important_features(vectorizer,classifier,n=40):\n",
    "    class_labels = classifier.classes_\n",
    "    feature_names =vectorizer.get_feature_names_out()\n",
    "\n",
    "    topn_class1 = sorted(zip(classifier.feature_count_[0], feature_names),reverse=True)[-n:]\n",
    "    topn_class2 = sorted(zip(classifier.feature_count_[1], feature_names),reverse=True)[-n:]\n",
    "    topn_class3 = sorted(zip(classifier.feature_count_[2], feature_names),reverse=True)[-n:]\n",
    "    topn_class4 = sorted(zip(classifier.feature_count_[3], feature_names),reverse=True)[-n:]\n",
    "    topn_class5 = sorted(zip(classifier.feature_count_[4], feature_names),reverse=True)[-n:]\n",
    "\n",
    "\n",
    "    \n",
    "\n",
    "    print(\"Least Important words in 1 star\")\n",
    "\n",
    "    for coef, feat in topn_class1:\n",
    "        print(class_labels[0], coef, feat)\n",
    "\n",
    "    print(\"-----------------------------------------\")\n",
    "    print(\"Least Important words in 2 star reviews\")\n",
    "\n",
    "    for coef, feat in topn_class2:\n",
    "        print(class_labels[1], coef, feat)\n",
    "        \n",
    "    print(\"-----------------------------------------\")\n",
    "    print(\"Least Important words in 3 star reviews\")\n",
    "    \n",
    "    for coef, feat in topn_class3:\n",
    "        print(class_labels[2], coef, feat)\n",
    "        \n",
    "    print(\"-----------------------------------------\")\n",
    "    print(\"Least Important words in 4 star reviews\")\n",
    "    \n",
    "    for coef, feat in topn_class4:\n",
    "        print(class_labels[3], coef, feat)\n",
    "        \n",
    "    print(\"-----------------------------------------\")\n",
    "    print(\"Least important words in 5 star reviews\")\n",
    "    \n",
    "    for coef, feat in topn_class5:\n",
    "        print(class_labels[4], coef, feat)\n"
   ]
  },
  {
   "cell_type": "code",
   "execution_count": 47,
   "id": "5125bb96",
   "metadata": {},
   "outputs": [
    {
     "name": "stdout",
     "output_type": "stream",
     "text": [
      "Least Important words in 1 star\n",
      "1 0.0 aa great\n",
      "1 0.0 aa good\n",
      "1 0.0 aa fresh\n",
      "1 0.0 aa far\n",
      "1 0.0 aa fan\n",
      "1 0.0 aa customer\n",
      "1 0.0 aa couscous\n",
      "1 0.0 aa chip\n",
      "1 0.0 aa barista\n",
      "1 0.0 __ mimosa\n",
      "-----------------------------------------\n",
      "Least Important words in 2 star reviews\n",
      "2 0.0 aa good\n",
      "2 0.0 aa fresh\n",
      "2 0.0 aa far\n",
      "2 0.0 aa fan\n",
      "2 0.0 aa customer\n",
      "2 0.0 aa couscous\n",
      "2 0.0 aa chip\n",
      "2 0.0 aa barista\n",
      "2 0.0 a_m pm\n",
      "2 0.0 __ mimosa\n",
      "-----------------------------------------\n",
      "Least Important words in 3 star reviews\n",
      "3 0.0 aa great\n",
      "3 0.0 aa good\n",
      "3 0.0 aa fresh\n",
      "3 0.0 aa far\n",
      "3 0.0 aa fan\n",
      "3 0.0 aa customer\n",
      "3 0.0 aa couscous\n",
      "3 0.0 aa chip\n",
      "3 0.0 a_m pm\n",
      "3 0.0 __ mimosa\n",
      "-----------------------------------------\n",
      "Least Important words in 4 star reviews\n",
      "4 0.0 aa sighting\n",
      "4 0.0 aa serve\n",
      "4 0.0 aa saturday\n",
      "4 0.0 aa leap\n",
      "4 0.0 aa large\n",
      "4 0.0 aa fan\n",
      "4 0.0 aa couscous\n",
      "4 0.0 aa barista\n",
      "4 0.0 a_m pm\n",
      "4 0.0 __ mimosa\n",
      "-----------------------------------------\n",
      "Least important words in 5 star reviews\n",
      "5 0.0 aa large\n",
      "5 0.0 aa hospital\n",
      "5 0.0 aa great\n",
      "5 0.0 aa good\n",
      "5 0.0 aa fresh\n",
      "5 0.0 aa far\n",
      "5 0.0 aa customer\n",
      "5 0.0 aa chip\n",
      "5 0.0 aa barista\n",
      "5 0.0 a_m pm\n"
     ]
    }
   ],
   "source": [
    "not_important_features(vect, nb, n=10)"
   ]
  },
  {
   "cell_type": "markdown",
   "id": "a880430b",
   "metadata": {},
   "source": [
    "### Count vectorizer with bigram using 2 levels"
   ]
  },
  {
   "cell_type": "code",
   "execution_count": 56,
   "id": "9d7f8e8f",
   "metadata": {},
   "outputs": [
    {
     "name": "stdout",
     "output_type": "stream",
     "text": [
      "              precision    recall  f1-score   support\n",
      "\n",
      "           0       0.91      0.69      0.79     24621\n",
      "           1       0.88      0.97      0.92     56968\n",
      "\n",
      "    accuracy                           0.89     81589\n",
      "   macro avg       0.90      0.83      0.86     81589\n",
      "weighted avg       0.89      0.89      0.88     81589\n",
      "\n"
     ]
    }
   ],
   "source": [
    "X = df[['clean']]\n",
    "y = df['binary_st']\n",
    "\n",
    "X_train, X_test, y_train, y_test = train_test_split(X, y, random_state = 321, stratify = y)\n",
    "\n",
    "vect = CountVectorizer(ngram_range=(2, 2))\n",
    "\n",
    "X_train_vec = vect.fit_transform(X_train['clean'])\n",
    "X_test_vec = vect.transform(X_test['clean'])\n",
    "\n",
    "\n",
    "nb = MultinomialNB().fit(X_train_vec, y_train)\n",
    "y_pred = nb.predict(X_test_vec)\n",
    "\n",
    "print(classification_report(y_test, y_pred))"
   ]
  },
  {
   "cell_type": "code",
   "execution_count": null,
   "id": "ecc34229",
   "metadata": {},
   "outputs": [],
   "source": []
  },
  {
   "cell_type": "markdown",
   "id": "bdf37cf5",
   "metadata": {},
   "source": [
    "### Count vectorizer with trigram using 2 levels"
   ]
  },
  {
   "cell_type": "code",
   "execution_count": 57,
   "id": "0cf94126",
   "metadata": {},
   "outputs": [
    {
     "name": "stdout",
     "output_type": "stream",
     "text": [
      "              precision    recall  f1-score   support\n",
      "\n",
      "           0       0.88      0.54      0.67     24621\n",
      "           1       0.83      0.97      0.89     56968\n",
      "\n",
      "    accuracy                           0.84     81589\n",
      "   macro avg       0.85      0.76      0.78     81589\n",
      "weighted avg       0.84      0.84      0.83     81589\n",
      "\n"
     ]
    }
   ],
   "source": [
    "X = df[['clean']]\n",
    "y = df['binary_st']\n",
    "\n",
    "X_train, X_test, y_train, y_test = train_test_split(X, y, random_state = 321, stratify = y)\n",
    "\n",
    "vect = CountVectorizer(ngram_range=(3, 3))\n",
    "\n",
    "X_train_vec = vect.fit_transform(X_train['clean'])\n",
    "X_test_vec = vect.transform(X_test['clean'])\n",
    "\n",
    "\n",
    "nb = MultinomialNB().fit(X_train_vec, y_train)\n",
    "y_pred = nb.predict(X_test_vec)\n",
    "\n",
    "print(classification_report(y_test, y_pred))"
   ]
  },
  {
   "cell_type": "code",
   "execution_count": 66,
   "id": "f474f9bc",
   "metadata": {},
   "outputs": [
    {
     "name": "stdout",
     "output_type": "stream",
     "text": [
      "Important words in negative reviews\n",
      "0 474.0 sweet potato fry\n",
      "0 428.0 food pretty good\n",
      "0 420.0 want like place\n",
      "0 417.0 food good service\n",
      "0 320.0 nashville hot chicken\n",
      "0 291.0 take long time\n",
      "0 267.0 take drink order\n",
      "0 264.0 waste time money\n",
      "0 256.0 bad customer service\n",
      "0 252.0 want love place\n",
      "0 231.0 excited try place\n",
      "0 221.0 service good food\n",
      "0 219.0 wait minute food\n",
      "0 219.0 wait hour food\n",
      "0 213.0 let start say\n",
      "0 199.0 fried green tomato\n",
      "0 196.0 hear good thing\n",
      "0 193.0 seat right away\n",
      "0 193.0 mac cheese good\n",
      "0 187.0 food great service\n",
      "0 186.0 fry green tomato\n",
      "0 180.0 hear great thing\n",
      "0 179.0 wait long time\n",
      "0 177.0 wait wait wait\n",
      "0 174.0 poor customer service\n",
      "0 173.0 give place star\n",
      "0 171.0 get order wrong\n",
      "0 169.0 come minute later\n",
      "0 163.0 service great food\n",
      "0 162.0 ask speak manager\n",
      "0 160.0 good customer service\n",
      "0 159.0 reason give star\n",
      "0 158.0 good food good\n",
      "0 156.0 take minute food\n",
      "0 156.0 leave lot desire\n",
      "0 154.0 good thing place\n",
      "0 154.0 food good great\n",
      "0 153.0 terrible customer service\n",
      "0 148.0 tell minute wait\n",
      "0 136.0 hot chicken sandwich\n",
      "-----------------------------------------\n",
      "Important words in positive reviews\n",
      "1 1421.0 nashville hot chicken\n",
      "1 1321.0 sweet potato fry\n",
      "1 1300.0 great food great\n",
      "1 1215.0 food great service\n",
      "1 1024.0 highly recommend place\n",
      "1 896.0 service great food\n",
      "1 878.0 pimento mac cheese\n",
      "1 843.0 staff super friendly\n",
      "1 682.0 great service great\n",
      "1 648.0 hot chicken sandwich\n",
      "1 622.0 fry green tomato\n",
      "1 615.0 mac cheese good\n",
      "1 589.0 food good service\n",
      "1 555.0 fried green tomato\n",
      "1 551.0 favorite restaurant nashville\n",
      "1 535.0 good food good\n",
      "1 534.0 love love love\n",
      "1 523.0 definitely recommend place\n",
      "1 505.0 seat right away\n",
      "1 491.0 great customer service\n",
      "1 488.0 good hot chicken\n",
      "1 461.0 staff friendly helpful\n",
      "1 452.0 overall great experience\n",
      "1 438.0 service good food\n",
      "1 435.0 food pretty good\n",
      "1 421.0 food come quickly\n",
      "1 412.0 chicken mac cheese\n",
      "1 411.0 well fry chicken\n",
      "1 408.0 great food service\n",
      "1 402.0 great beer selection\n",
      "1 397.0 hot chicken place\n",
      "1 378.0 pull pork sandwich\n",
      "1 378.0 place great food\n",
      "1 378.0 good food great\n",
      "1 373.0 food great atmosphere\n",
      "1 372.0 hot chicken nashville\n",
      "1 360.0 good mac cheese\n",
      "1 360.0 favorite place eat\n",
      "1 357.0 place eat nashville\n",
      "1 356.0 black eyed pea\n"
     ]
    }
   ],
   "source": [
    "important_features(vect, nb, n=40)"
   ]
  },
  {
   "cell_type": "markdown",
   "id": "85028536",
   "metadata": {},
   "source": [
    "normalize large number of reviews\n",
    "hugging face for bert\n",
    "bert based "
   ]
  },
  {
   "cell_type": "code",
   "execution_count": null,
   "id": "d9fbf5e7",
   "metadata": {},
   "outputs": [],
   "source": []
  },
  {
   "cell_type": "code",
   "execution_count": 67,
   "id": "76d9c726",
   "metadata": {},
   "outputs": [
    {
     "data": {
      "text/html": [
       "<div>\n",
       "<style scoped>\n",
       "    .dataframe tbody tr th:only-of-type {\n",
       "        vertical-align: middle;\n",
       "    }\n",
       "\n",
       "    .dataframe tbody tr th {\n",
       "        vertical-align: top;\n",
       "    }\n",
       "\n",
       "    .dataframe thead th {\n",
       "        text-align: right;\n",
       "    }\n",
       "</style>\n",
       "<table border=\"1\" class=\"dataframe\">\n",
       "  <thead>\n",
       "    <tr style=\"text-align: right;\">\n",
       "      <th></th>\n",
       "      <th>mean</th>\n",
       "      <th>count</th>\n",
       "    </tr>\n",
       "    <tr>\n",
       "      <th>name</th>\n",
       "      <th></th>\n",
       "      <th></th>\n",
       "    </tr>\n",
       "  </thead>\n",
       "  <tbody>\n",
       "    <tr>\n",
       "      <th>Hattie B’s Hot Chicken - Nashville</th>\n",
       "      <td>4.446266</td>\n",
       "      <td>6160</td>\n",
       "    </tr>\n",
       "    <tr>\n",
       "      <th>Biscuit Love: Gulch</th>\n",
       "      <td>4.171180</td>\n",
       "      <td>4247</td>\n",
       "    </tr>\n",
       "    <tr>\n",
       "      <th>The Pharmacy</th>\n",
       "      <td>4.044122</td>\n",
       "      <td>3105</td>\n",
       "    </tr>\n",
       "    <tr>\n",
       "      <th>Martin's Bar-B-Que Joint</th>\n",
       "      <td>4.082548</td>\n",
       "      <td>3077</td>\n",
       "    </tr>\n",
       "    <tr>\n",
       "      <th>Peg Leg Porker</th>\n",
       "      <td>4.344792</td>\n",
       "      <td>2909</td>\n",
       "    </tr>\n",
       "    <tr>\n",
       "      <th>Puckett's Grocery &amp; Restaurant</th>\n",
       "      <td>3.890838</td>\n",
       "      <td>2794</td>\n",
       "    </tr>\n",
       "    <tr>\n",
       "      <th>The Stillery</th>\n",
       "      <td>4.449962</td>\n",
       "      <td>2618</td>\n",
       "    </tr>\n",
       "    <tr>\n",
       "      <th>Loveless Cafe</th>\n",
       "      <td>4.293548</td>\n",
       "      <td>2480</td>\n",
       "    </tr>\n",
       "    <tr>\n",
       "      <th>The Southern Steak &amp; Oyster</th>\n",
       "      <td>4.104318</td>\n",
       "      <td>2339</td>\n",
       "    </tr>\n",
       "    <tr>\n",
       "      <th>The Pancake Pantry</th>\n",
       "      <td>3.997609</td>\n",
       "      <td>2091</td>\n",
       "    </tr>\n",
       "  </tbody>\n",
       "</table>\n",
       "</div>"
      ],
      "text/plain": [
       "                                        mean  count\n",
       "name                                               \n",
       "Hattie B’s Hot Chicken - Nashville  4.446266   6160\n",
       "Biscuit Love: Gulch                 4.171180   4247\n",
       "The Pharmacy                        4.044122   3105\n",
       "Martin's Bar-B-Que Joint            4.082548   3077\n",
       "Peg Leg Porker                      4.344792   2909\n",
       "Puckett's Grocery & Restaurant      3.890838   2794\n",
       "The Stillery                        4.449962   2618\n",
       "Loveless Cafe                       4.293548   2480\n",
       "The Southern Steak & Oyster         4.104318   2339\n",
       "The Pancake Pantry                  3.997609   2091"
      ]
     },
     "execution_count": 67,
     "metadata": {},
     "output_type": "execute_result"
    }
   ],
   "source": [
    "df.groupby('name')['review_stars'].agg(['mean', 'count']).sort_values(ascending = False, by='count').head(10)"
   ]
  },
  {
   "cell_type": "code",
   "execution_count": 69,
   "id": "1d4c5e7a",
   "metadata": {},
   "outputs": [
    {
     "data": {
      "text/plain": [
       "<Axes: ylabel='name'>"
      ]
     },
     "execution_count": 69,
     "metadata": {},
     "output_type": "execute_result"
    },
    {
     "data": {
      "image/png": "[encoded data removed]",
      "text/plain": [
       "<Figure size 640x480 with 1 Axes>"
      ]
     },
     "metadata": {},
     "output_type": "display_data"
    }
   ],
   "source": [
    "df.groupby('name')['review_stars'].count().sort_values(ascending = False).head(20).plot(kind = 'barh')"
   ]
  },
  {
   "cell_type": "code",
   "execution_count": null,
   "id": "713c9365",
   "metadata": {},
   "outputs": [],
   "source": [
    "#C"
   ]
  },
  {
   "cell_type": "markdown",
   "id": "a43b83d7",
   "metadata": {},
   "source": [
    "### Using Undersampled Data\n",
    "#### Count vectorizer(3,3) , nb"
   ]
  },
  {
   "cell_type": "code",
   "execution_count": 48,
   "id": "d7635207",
   "metadata": {},
   "outputs": [
    {
     "name": "stderr",
     "output_type": "stream",
     "text": [
      "C:\\Users\\16156\\AppData\\Local\\Temp\\ipykernel_23076\\2360949352.py:2: DtypeWarning: Columns (29) have mixed types. Specify dtype option on import or set low_memory=False.\n",
      "  df_us = pd.read_csv('../data/df_undersampledbyrest.csv').drop(columns = 'Unnamed: 0')\n"
     ]
    }
   ],
   "source": [
    "#Undersampled Data\n",
    "df_us = pd.read_csv('../data/df_undersampledbyrest.csv').drop(columns = 'Unnamed: 0')"
   ]
  },
  {
   "cell_type": "code",
   "execution_count": null,
   "id": "f0de99b9",
   "metadata": {},
   "outputs": [],
   "source": [
    "df_us['']"
   ]
  },
  {
   "cell_type": "code",
   "execution_count": 80,
   "id": "a2a43762",
   "metadata": {},
   "outputs": [],
   "source": [
    "X = df_us[['clean']]\n",
    "y = df_us['review_stars']\n",
    "\n",
    "X_train, X_test, y_train, y_test = train_test_split(X, y, random_state = 321, stratify = y)\n",
    "\n",
    "vect = CountVectorizer(ngram_range=(3, 3))\n",
    "\n",
    "X_train_vec = vect.fit_transform(X_train['clean'])\n",
    "X_test_vec = vect.transform(X_test['clean'])"
   ]
  },
  {
   "cell_type": "code",
   "execution_count": 81,
   "id": "7d87da83",
   "metadata": {},
   "outputs": [
    {
     "name": "stdout",
     "output_type": "stream",
     "text": [
      "CPU times: total: 594 ms\n",
      "Wall time: 599 ms\n"
     ]
    }
   ],
   "source": [
    "%%time\n",
    "nb = MultinomialNB().fit(X_train_vec, y_train)\n",
    "y_pred = nb.predict(X_test_vec)"
   ]
  },
  {
   "cell_type": "code",
   "execution_count": 82,
   "id": "06aba636",
   "metadata": {},
   "outputs": [
    {
     "name": "stdout",
     "output_type": "stream",
     "text": [
      "              precision    recall  f1-score   support\n",
      "\n",
      "           1       0.64      0.43      0.52      2818\n",
      "           2       0.41      0.08      0.14      1865\n",
      "           3       0.28      0.07      0.11      2451\n",
      "           4       0.34      0.26      0.29      4858\n",
      "           5       0.56      0.87      0.68      9637\n",
      "\n",
      "    accuracy                           0.52     21629\n",
      "   macro avg       0.45      0.34      0.35     21629\n",
      "weighted avg       0.47      0.52      0.46     21629\n",
      "\n"
     ]
    }
   ],
   "source": [
    "print(classification_report(y_test, y_pred))"
   ]
  },
  {
   "cell_type": "code",
   "execution_count": 52,
   "id": "1b5f78e3",
   "metadata": {},
   "outputs": [
    {
     "name": "stdout",
     "output_type": "stream",
     "text": [
      "Important words in 1 star\n",
      "1 86.0 bad customer service\n",
      "1 60.0 waste time money\n",
      "1 43.0 poor customer service\n",
      "1 41.0 take drink order\n",
      "1 40.0 terrible customer service\n",
      "1 40.0 ask speak manager\n",
      "1 39.0 wait minute food\n",
      "1 37.0 wait hour food\n",
      "1 37.0 food good service\n",
      "1 36.0 horrible customer service\n",
      "-----------------------------------------\n",
      "Important words in 2 star reviews\n",
      "2 56.0 want like place\n",
      "2 29.0 food pretty good\n",
      "2 28.0 take long time\n",
      "2 27.0 sweet potato fry\n",
      "2 27.0 food good service\n",
      "2 25.0 want love place\n",
      "2 25.0 give place star\n",
      "2 24.0 service good food\n",
      "2 24.0 reason give star\n",
      "2 23.0 get order wrong\n",
      "-----------------------------------------\n",
      "Important words in 3 star reviews\n",
      "3 65.0 food pretty good\n",
      "3 55.0 food good service\n",
      "3 39.0 want like place\n",
      "3 39.0 nashville hot chicken\n",
      "3 38.0 sweet potato fry\n",
      "3 32.0 want love place\n",
      "3 32.0 take long time\n",
      "3 27.0 food good great\n",
      "3 27.0 deep dish pizza\n",
      "3 25.0 good food good\n",
      "-----------------------------------------\n",
      "Important words in 4 star reviews\n",
      "4 90.0 sweet potato fry\n",
      "4 89.0 food good service\n",
      "4 88.0 food pretty good\n",
      "4 86.0 good food good\n",
      "4 63.0 service good food\n",
      "4 61.0 food great service\n",
      "4 58.0 nashville hot chicken\n",
      "4 51.0 overall great experience\n",
      "4 47.0 reason give star\n",
      "4 47.0 great food great\n",
      "-----------------------------------------\n",
      "Important words in 5 star reviews\n",
      "5 255.0 great food great\n",
      "5 213.0 food great service\n",
      "5 208.0 highly recommend place\n",
      "5 174.0 staff super friendly\n",
      "5 172.0 service great food\n",
      "5 131.0 great customer service\n",
      "5 115.0 nashville hot chicken\n",
      "5 115.0 great service great\n",
      "5 113.0 love love love\n",
      "5 106.0 sweet potato fry\n"
     ]
    }
   ],
   "source": [
    "important_featuresb(vect, nb, n=10)"
   ]
  },
  {
   "cell_type": "code",
   "execution_count": null,
   "id": "25b21abc",
   "metadata": {},
   "outputs": [],
   "source": []
  },
  {
   "cell_type": "code",
   "execution_count": 86,
   "id": "44ee8ba2",
   "metadata": {},
   "outputs": [
    {
     "data": {
      "text/plain": [
       "Hattie B’s Hot Chicken - Nashville    2262\n",
       "Peg Leg Porker                        1081\n",
       "The Stillery                          1064\n",
       "The Pharmacy                           898\n",
       "Martin's Bar-B-Que Joint               670\n",
       "                                      ... \n",
       "Agave’s                                  1\n",
       "King Solomon's Gyros                     1\n",
       "The Nashville Grange                     1\n",
       "DeSano Pizzeria                          1\n",
       "Meet Noodles                             1\n",
       "Name: name, Length: 1337, dtype: int64"
      ]
     },
     "execution_count": 86,
     "metadata": {},
     "output_type": "execute_result"
    }
   ],
   "source": [
    "df[df['clean'].str.contains('mac', 'cheese')]['name'].value_counts()"
   ]
  },
  {
   "cell_type": "code",
   "execution_count": 87,
   "id": "000aeb03",
   "metadata": {},
   "outputs": [
    {
     "data": {
      "text/plain": [
       "Hattie B's Hot Chicken - Nashville West    29\n",
       "Peg Leg Porker                             26\n",
       "Dandgure's Classic Southern Cooking        24\n",
       "Hattie B's Hot Chicken - Melrose           23\n",
       "Jack's Bar-B-Que                           23\n",
       "                                           ..\n",
       "Past Perfect                                1\n",
       "Pastaria                                    1\n",
       "Ellington's                                 1\n",
       "Bartella                                    1\n",
       "China Star                                  1\n",
       "Name: name, Length: 1144, dtype: int64"
      ]
     },
     "execution_count": 87,
     "metadata": {},
     "output_type": "execute_result"
    }
   ],
   "source": [
    "df_us[df_us['clean'].str.contains('mac', 'cheese')]['name'].value_counts()"
   ]
  },
  {
   "cell_type": "code",
   "execution_count": 91,
   "id": "f0e13d9d",
   "metadata": {},
   "outputs": [
    {
     "data": {
      "text/plain": [
       "name\n",
       "Hattie B’s Hot Chicken - Nashville    6160\n",
       "Biscuit Love: Gulch                   4247\n",
       "The Pharmacy                          3105\n",
       "Martin's Bar-B-Que Joint              3077\n",
       "Peg Leg Porker                        2909\n",
       "                                      ... \n",
       "C'Bon                                    5\n",
       "615 Waffles                              5\n",
       "Tang's Chinese Restaurant                5\n",
       "Buon Appetito                            5\n",
       "opry back porch BBQ                      5\n",
       "Length: 2084, dtype: int64"
      ]
     },
     "execution_count": 91,
     "metadata": {},
     "output_type": "execute_result"
    }
   ],
   "source": [
    "df.groupby('name').size().sort_values(ascending = False)"
   ]
  },
  {
   "cell_type": "markdown",
   "id": "7f922e45",
   "metadata": {},
   "source": [
    "### tf-idf with ngram_range (1,3)"
   ]
  },
  {
   "cell_type": "code",
   "execution_count": 74,
   "id": "72754703",
   "metadata": {},
   "outputs": [
    {
     "data": {
      "text/html": [
       "<div>\n",
       "<style scoped>\n",
       "    .dataframe tbody tr th:only-of-type {\n",
       "        vertical-align: middle;\n",
       "    }\n",
       "\n",
       "    .dataframe tbody tr th {\n",
       "        vertical-align: top;\n",
       "    }\n",
       "\n",
       "    .dataframe thead th {\n",
       "        text-align: right;\n",
       "    }\n",
       "</style>\n",
       "<table border=\"1\" class=\"dataframe\">\n",
       "  <thead>\n",
       "    <tr style=\"text-align: right;\">\n",
       "      <th></th>\n",
       "      <th>0</th>\n",
       "      <th>1</th>\n",
       "      <th>2</th>\n",
       "      <th>3</th>\n",
       "      <th>4</th>\n",
       "    </tr>\n",
       "  </thead>\n",
       "  <tbody>\n",
       "    <tr>\n",
       "      <th>business_id</th>\n",
       "      <td>ltBBYdNzkeKdCNPDAsxwAA</td>\n",
       "      <td>Zx7n8mdt8OzLRXVzolXNhQ</td>\n",
       "      <td>eaJCpC6IhYphj7bwCDHTwQ</td>\n",
       "      <td>oQ5CPRt0R3AzFvcjNOqB1w</td>\n",
       "      <td>9OtFX3YzG5keaUMOWU1imA</td>\n",
       "    </tr>\n",
       "    <tr>\n",
       "      <th>name</th>\n",
       "      <td>Tavern</td>\n",
       "      <td>Milk and Honey Nashville</td>\n",
       "      <td>Three Brothers Coffee</td>\n",
       "      <td>Edley's Bar-B-Que - 12 South</td>\n",
       "      <td>Champions</td>\n",
       "    </tr>\n",
       "    <tr>\n",
       "      <th>address</th>\n",
       "      <td>1904 Broadway</td>\n",
       "      <td>214 11th Ave S</td>\n",
       "      <td>2813 W End Ave</td>\n",
       "      <td>2706 12th Ave S</td>\n",
       "      <td>600 Marriott Drive</td>\n",
       "    </tr>\n",
       "    <tr>\n",
       "      <th>city</th>\n",
       "      <td>Nashville</td>\n",
       "      <td>Nashville</td>\n",
       "      <td>Nashville</td>\n",
       "      <td>Nashville</td>\n",
       "      <td>Nashville</td>\n",
       "    </tr>\n",
       "    <tr>\n",
       "      <th>state</th>\n",
       "      <td>TN</td>\n",
       "      <td>TN</td>\n",
       "      <td>TN</td>\n",
       "      <td>TN</td>\n",
       "      <td>TN</td>\n",
       "    </tr>\n",
       "    <tr>\n",
       "      <th>postal_code</th>\n",
       "      <td>37203.0</td>\n",
       "      <td>37203.0</td>\n",
       "      <td>37203.0</td>\n",
       "      <td>37204.0</td>\n",
       "      <td>37214.0</td>\n",
       "    </tr>\n",
       "    <tr>\n",
       "      <th>latitude</th>\n",
       "      <td>36.1509</td>\n",
       "      <td>36.154702</td>\n",
       "      <td>36.144808</td>\n",
       "      <td>36.122973</td>\n",
       "      <td>36.146207</td>\n",
       "    </tr>\n",
       "    <tr>\n",
       "      <th>longitude</th>\n",
       "      <td>-86.797012</td>\n",
       "      <td>-86.784541</td>\n",
       "      <td>-86.812266</td>\n",
       "      <td>-86.789782</td>\n",
       "      <td>-86.693053</td>\n",
       "    </tr>\n",
       "    <tr>\n",
       "      <th>overall_stars</th>\n",
       "      <td>4.0</td>\n",
       "      <td>4.0</td>\n",
       "      <td>4.5</td>\n",
       "      <td>4.0</td>\n",
       "      <td>4.0</td>\n",
       "    </tr>\n",
       "    <tr>\n",
       "      <th>review_count</th>\n",
       "      <td>1222</td>\n",
       "      <td>1725</td>\n",
       "      <td>249</td>\n",
       "      <td>1114</td>\n",
       "      <td>73</td>\n",
       "    </tr>\n",
       "    <tr>\n",
       "      <th>is_open</th>\n",
       "      <td>1</td>\n",
       "      <td>1</td>\n",
       "      <td>1</td>\n",
       "      <td>1</td>\n",
       "      <td>0</td>\n",
       "    </tr>\n",
       "    <tr>\n",
       "      <th>attributes</th>\n",
       "      <td>{'BikeParking': 'True', 'Alcohol': \"u'full_bar...</td>\n",
       "      <td>{'WheelchairAccessible': 'True', 'RestaurantsP...</td>\n",
       "      <td>{'RestaurantsTableService': 'False', 'Restaura...</td>\n",
       "      <td>{'RestaurantsGoodForGroups': 'True', 'GoodForK...</td>\n",
       "      <td>{'BikeParking': 'True', 'RestaurantsReservatio...</td>\n",
       "    </tr>\n",
       "    <tr>\n",
       "      <th>categories</th>\n",
       "      <td>Cocktail Bars, Nightlife, Gastropubs, Sports B...</td>\n",
       "      <td>American (New), Restaurants, American (Traditi...</td>\n",
       "      <td>Bagels, Sporting Goods, Outdoor Gear, Coffee &amp;...</td>\n",
       "      <td>Barbeque, Restaurants, Dive Bars, Cocktail Bar...</td>\n",
       "      <td>American (Traditional), Bars, American (New), ...</td>\n",
       "    </tr>\n",
       "    <tr>\n",
       "      <th>hours</th>\n",
       "      <td>{'Monday': '0:0-0:0', 'Wednesday': '10:0-22:0'...</td>\n",
       "      <td>{'Monday': '0:0-0:0', 'Thursday': '6:30-15:0',...</td>\n",
       "      <td>{'Monday': '0:0-0:0', 'Tuesday': '6:0-19:0', '...</td>\n",
       "      <td>{'Monday': '11:0-21:0', 'Tuesday': '11:0-21:0'...</td>\n",
       "      <td>{'Monday': '6:0-1:0', 'Tuesday': '6:0-1:0', 'W...</td>\n",
       "    </tr>\n",
       "    <tr>\n",
       "      <th>clean_cat</th>\n",
       "      <td>American (New), Bars, Cocktail Bars, Gastropub...</td>\n",
       "      <td>American (New), American (Traditional), Breakf...</td>\n",
       "      <td>Bagels, Cafes, Coffee &amp; Tea, Internet Cafes, O...</td>\n",
       "      <td>Barbeque, Bars, Cocktail Bars, Dive Bars, Nigh...</td>\n",
       "      <td>American (New), American (Traditional), Bars, ...</td>\n",
       "    </tr>\n",
       "    <tr>\n",
       "      <th>review_id</th>\n",
       "      <td>elqRpX9T3YwL07uLNtN3Bg</td>\n",
       "      <td>E9AB7V4z8xrt2uPF7T55FQ</td>\n",
       "      <td>qGQvUHmC02PAZW3H1WTIfw</td>\n",
       "      <td>67cGcRrS0jTvB8p7rpaPew</td>\n",
       "      <td>DOeEDBfsrNph0ktNkYYFnQ</td>\n",
       "    </tr>\n",
       "    <tr>\n",
       "      <th>user_id</th>\n",
       "      <td>-sryo4gDYxbZ1T5Bz4l5Bw</td>\n",
       "      <td>iYY5Ii1LGpZCpXFkHlMefw</td>\n",
       "      <td>RRTQpg8hutdimzAYuP_Hbw</td>\n",
       "      <td>8YSxVaD203mE_9FR4nCEVA</td>\n",
       "      <td>qVYilGRmY6uemAy_tDpfuA</td>\n",
       "    </tr>\n",
       "    <tr>\n",
       "      <th>review_stars</th>\n",
       "      <td>2</td>\n",
       "      <td>5</td>\n",
       "      <td>5</td>\n",
       "      <td>3</td>\n",
       "      <td>5</td>\n",
       "    </tr>\n",
       "    <tr>\n",
       "      <th>useful</th>\n",
       "      <td>0</td>\n",
       "      <td>0</td>\n",
       "      <td>0</td>\n",
       "      <td>1</td>\n",
       "      <td>4</td>\n",
       "    </tr>\n",
       "    <tr>\n",
       "      <th>funny</th>\n",
       "      <td>0</td>\n",
       "      <td>0</td>\n",
       "      <td>0</td>\n",
       "      <td>0</td>\n",
       "      <td>0</td>\n",
       "    </tr>\n",
       "    <tr>\n",
       "      <th>cool</th>\n",
       "      <td>0</td>\n",
       "      <td>0</td>\n",
       "      <td>0</td>\n",
       "      <td>0</td>\n",
       "      <td>0</td>\n",
       "    </tr>\n",
       "    <tr>\n",
       "      <th>date</th>\n",
       "      <td>2015-02-02 04:29:13</td>\n",
       "      <td>2018-04-27 23:03:21</td>\n",
       "      <td>2015-08-30 13:41:47</td>\n",
       "      <td>2016-01-17 13:26:19</td>\n",
       "      <td>2014-05-26 01:56:19</td>\n",
       "    </tr>\n",
       "    <tr>\n",
       "      <th>review_stars.1</th>\n",
       "      <td>2</td>\n",
       "      <td>5</td>\n",
       "      <td>5</td>\n",
       "      <td>3</td>\n",
       "      <td>5</td>\n",
       "    </tr>\n",
       "    <tr>\n",
       "      <th>text</th>\n",
       "      <td>I at least have to give this restaurant two st...</td>\n",
       "      <td>Amazing biscuits and (fill in the blank). Grea...</td>\n",
       "      <td>Stopped by after a Sunday morning walk in the ...</td>\n",
       "      <td>Honestly the food doesn't knock my socks off b...</td>\n",
       "      <td>Man. This place is nice. The bartender was awe...</td>\n",
       "    </tr>\n",
       "    <tr>\n",
       "      <th>clean</th>\n",
       "      <td>['restaurant', 'star', 'decent', 'food', 'dinn...</td>\n",
       "      <td>['amazing', 'biscuit', 'fill', 'blank', 'great...</td>\n",
       "      <td>['stop', 'sunday', 'morning', 'walk', 'park', ...</td>\n",
       "      <td>['honestly', 'food', 'knock', 'sock', 'people'...</td>\n",
       "      <td>['man', 'place', 'nice', 'bartender', 'awesome...</td>\n",
       "    </tr>\n",
       "    <tr>\n",
       "      <th>text_length</th>\n",
       "      <td>473</td>\n",
       "      <td>101</td>\n",
       "      <td>112</td>\n",
       "      <td>211</td>\n",
       "      <td>297</td>\n",
       "    </tr>\n",
       "    <tr>\n",
       "      <th>polarity</th>\n",
       "      <td>0.079556</td>\n",
       "      <td>0.332</td>\n",
       "      <td>0.65</td>\n",
       "      <td>0.24375</td>\n",
       "      <td>0.36</td>\n",
       "    </tr>\n",
       "    <tr>\n",
       "      <th>word_count</th>\n",
       "      <td>93</td>\n",
       "      <td>16</td>\n",
       "      <td>22</td>\n",
       "      <td>43</td>\n",
       "      <td>53</td>\n",
       "    </tr>\n",
       "    <tr>\n",
       "      <th>binary_st</th>\n",
       "      <td>0</td>\n",
       "      <td>1</td>\n",
       "      <td>1</td>\n",
       "      <td>0</td>\n",
       "      <td>1</td>\n",
       "    </tr>\n",
       "    <tr>\n",
       "      <th>tri_st</th>\n",
       "      <td>0</td>\n",
       "      <td>2</td>\n",
       "      <td>2</td>\n",
       "      <td>1</td>\n",
       "      <td>2</td>\n",
       "    </tr>\n",
       "  </tbody>\n",
       "</table>\n",
       "</div>"
      ],
      "text/plain": [
       "                                                                0  \\\n",
       "business_id                                ltBBYdNzkeKdCNPDAsxwAA   \n",
       "name                                                       Tavern   \n",
       "address                                             1904 Broadway   \n",
       "city                                                    Nashville   \n",
       "state                                                          TN   \n",
       "postal_code                                               37203.0   \n",
       "latitude                                                  36.1509   \n",
       "longitude                                              -86.797012   \n",
       "overall_stars                                                 4.0   \n",
       "review_count                                                 1222   \n",
       "is_open                                                         1   \n",
       "attributes      {'BikeParking': 'True', 'Alcohol': \"u'full_bar...   \n",
       "categories      Cocktail Bars, Nightlife, Gastropubs, Sports B...   \n",
       "hours           {'Monday': '0:0-0:0', 'Wednesday': '10:0-22:0'...   \n",
       "clean_cat       American (New), Bars, Cocktail Bars, Gastropub...   \n",
       "review_id                                  elqRpX9T3YwL07uLNtN3Bg   \n",
       "user_id                                    -sryo4gDYxbZ1T5Bz4l5Bw   \n",
       "review_stars                                                    2   \n",
       "useful                                                          0   \n",
       "funny                                                           0   \n",
       "cool                                                            0   \n",
       "date                                          2015-02-02 04:29:13   \n",
       "review_stars.1                                                  2   \n",
       "text            I at least have to give this restaurant two st...   \n",
       "clean           ['restaurant', 'star', 'decent', 'food', 'dinn...   \n",
       "text_length                                                   473   \n",
       "polarity                                                 0.079556   \n",
       "word_count                                                     93   \n",
       "binary_st                                                       0   \n",
       "tri_st                                                          0   \n",
       "\n",
       "                                                                1  \\\n",
       "business_id                                Zx7n8mdt8OzLRXVzolXNhQ   \n",
       "name                                     Milk and Honey Nashville   \n",
       "address                                            214 11th Ave S   \n",
       "city                                                    Nashville   \n",
       "state                                                          TN   \n",
       "postal_code                                               37203.0   \n",
       "latitude                                                36.154702   \n",
       "longitude                                              -86.784541   \n",
       "overall_stars                                                 4.0   \n",
       "review_count                                                 1725   \n",
       "is_open                                                         1   \n",
       "attributes      {'WheelchairAccessible': 'True', 'RestaurantsP...   \n",
       "categories      American (New), Restaurants, American (Traditi...   \n",
       "hours           {'Monday': '0:0-0:0', 'Thursday': '6:30-15:0',...   \n",
       "clean_cat       American (New), American (Traditional), Breakf...   \n",
       "review_id                                  E9AB7V4z8xrt2uPF7T55FQ   \n",
       "user_id                                    iYY5Ii1LGpZCpXFkHlMefw   \n",
       "review_stars                                                    5   \n",
       "useful                                                          0   \n",
       "funny                                                           0   \n",
       "cool                                                            0   \n",
       "date                                          2018-04-27 23:03:21   \n",
       "review_stars.1                                                  5   \n",
       "text            Amazing biscuits and (fill in the blank). Grea...   \n",
       "clean           ['amazing', 'biscuit', 'fill', 'blank', 'great...   \n",
       "text_length                                                   101   \n",
       "polarity                                                    0.332   \n",
       "word_count                                                     16   \n",
       "binary_st                                                       1   \n",
       "tri_st                                                          2   \n",
       "\n",
       "                                                                2  \\\n",
       "business_id                                eaJCpC6IhYphj7bwCDHTwQ   \n",
       "name                                        Three Brothers Coffee   \n",
       "address                                            2813 W End Ave   \n",
       "city                                                    Nashville   \n",
       "state                                                          TN   \n",
       "postal_code                                               37203.0   \n",
       "latitude                                                36.144808   \n",
       "longitude                                              -86.812266   \n",
       "overall_stars                                                 4.5   \n",
       "review_count                                                  249   \n",
       "is_open                                                         1   \n",
       "attributes      {'RestaurantsTableService': 'False', 'Restaura...   \n",
       "categories      Bagels, Sporting Goods, Outdoor Gear, Coffee &...   \n",
       "hours           {'Monday': '0:0-0:0', 'Tuesday': '6:0-19:0', '...   \n",
       "clean_cat       Bagels, Cafes, Coffee & Tea, Internet Cafes, O...   \n",
       "review_id                                  qGQvUHmC02PAZW3H1WTIfw   \n",
       "user_id                                    RRTQpg8hutdimzAYuP_Hbw   \n",
       "review_stars                                                    5   \n",
       "useful                                                          0   \n",
       "funny                                                           0   \n",
       "cool                                                            0   \n",
       "date                                          2015-08-30 13:41:47   \n",
       "review_stars.1                                                  5   \n",
       "text            Stopped by after a Sunday morning walk in the ...   \n",
       "clean           ['stop', 'sunday', 'morning', 'walk', 'park', ...   \n",
       "text_length                                                   112   \n",
       "polarity                                                     0.65   \n",
       "word_count                                                     22   \n",
       "binary_st                                                       1   \n",
       "tri_st                                                          2   \n",
       "\n",
       "                                                                3  \\\n",
       "business_id                                oQ5CPRt0R3AzFvcjNOqB1w   \n",
       "name                                 Edley's Bar-B-Que - 12 South   \n",
       "address                                           2706 12th Ave S   \n",
       "city                                                    Nashville   \n",
       "state                                                          TN   \n",
       "postal_code                                               37204.0   \n",
       "latitude                                                36.122973   \n",
       "longitude                                              -86.789782   \n",
       "overall_stars                                                 4.0   \n",
       "review_count                                                 1114   \n",
       "is_open                                                         1   \n",
       "attributes      {'RestaurantsGoodForGroups': 'True', 'GoodForK...   \n",
       "categories      Barbeque, Restaurants, Dive Bars, Cocktail Bar...   \n",
       "hours           {'Monday': '11:0-21:0', 'Tuesday': '11:0-21:0'...   \n",
       "clean_cat       Barbeque, Bars, Cocktail Bars, Dive Bars, Nigh...   \n",
       "review_id                                  67cGcRrS0jTvB8p7rpaPew   \n",
       "user_id                                    8YSxVaD203mE_9FR4nCEVA   \n",
       "review_stars                                                    3   \n",
       "useful                                                          1   \n",
       "funny                                                           0   \n",
       "cool                                                            0   \n",
       "date                                          2016-01-17 13:26:19   \n",
       "review_stars.1                                                  3   \n",
       "text            Honestly the food doesn't knock my socks off b...   \n",
       "clean           ['honestly', 'food', 'knock', 'sock', 'people'...   \n",
       "text_length                                                   211   \n",
       "polarity                                                  0.24375   \n",
       "word_count                                                     43   \n",
       "binary_st                                                       0   \n",
       "tri_st                                                          1   \n",
       "\n",
       "                                                                4  \n",
       "business_id                                9OtFX3YzG5keaUMOWU1imA  \n",
       "name                                                    Champions  \n",
       "address                                        600 Marriott Drive  \n",
       "city                                                    Nashville  \n",
       "state                                                          TN  \n",
       "postal_code                                               37214.0  \n",
       "latitude                                                36.146207  \n",
       "longitude                                              -86.693053  \n",
       "overall_stars                                                 4.0  \n",
       "review_count                                                   73  \n",
       "is_open                                                         0  \n",
       "attributes      {'BikeParking': 'True', 'RestaurantsReservatio...  \n",
       "categories      American (Traditional), Bars, American (New), ...  \n",
       "hours           {'Monday': '6:0-1:0', 'Tuesday': '6:0-1:0', 'W...  \n",
       "clean_cat       American (New), American (Traditional), Bars, ...  \n",
       "review_id                                  DOeEDBfsrNph0ktNkYYFnQ  \n",
       "user_id                                    qVYilGRmY6uemAy_tDpfuA  \n",
       "review_stars                                                    5  \n",
       "useful                                                          4  \n",
       "funny                                                           0  \n",
       "cool                                                            0  \n",
       "date                                          2014-05-26 01:56:19  \n",
       "review_stars.1                                                  5  \n",
       "text            Man. This place is nice. The bartender was awe...  \n",
       "clean           ['man', 'place', 'nice', 'bartender', 'awesome...  \n",
       "text_length                                                   297  \n",
       "polarity                                                     0.36  \n",
       "word_count                                                     53  \n",
       "binary_st                                                       1  \n",
       "tri_st                                                          2  "
      ]
     },
     "execution_count": 74,
     "metadata": {},
     "output_type": "execute_result"
    }
   ],
   "source": [
    "df.head().T"
   ]
  },
  {
   "cell_type": "code",
   "execution_count": 75,
   "id": "906db21f",
   "metadata": {},
   "outputs": [],
   "source": [
    "df['clean_join'] = df['clean'].apply(lambda x: \" \".join(x))"
   ]
  },
  {
   "cell_type": "code",
   "execution_count": 76,
   "id": "b49c831f",
   "metadata": {},
   "outputs": [
    {
     "data": {
      "text/plain": [
       "0         [ ' r e s t a u r a n t ' ,   ' s t a r ' ,   ...\n",
       "1         [ ' a m a z i n g ' ,   ' b i s c u i t ' ,   ...\n",
       "2         [ ' s t o p ' ,   ' s u n d a y ' ,   ' m o r ...\n",
       "3         [ ' h o n e s t l y ' ,   ' f o o d ' ,   ' k ...\n",
       "4         [ ' m a n ' ,   ' p l a c e ' ,   ' n i c e ' ...\n",
       "                                ...                        \n",
       "326351    [ ' s l o w ' ,   ' s l o w w w w w ' ,   ' s ...\n",
       "326352    [ ' n i c e ' ,   ' p l a c e ' ,   ' e a t ' ...\n",
       "326353    [ ' s t r a n d ' ,   ' n a s h v i l l e ' , ...\n",
       "326354    [ ' s u p p e r ' ,   ' c l u b ' ,   ' r i d ...\n",
       "326355    [ ' l o c a t e ' ,   ' w a l k ' ,   ' d i s ...\n",
       "Name: clean_join, Length: 326356, dtype: object"
      ]
     },
     "execution_count": 76,
     "metadata": {},
     "output_type": "execute_result"
    }
   ],
   "source": [
    "df['clean_join']"
   ]
  },
  {
   "cell_type": "code",
   "execution_count": 77,
   "id": "9d30a513",
   "metadata": {},
   "outputs": [
    {
     "data": {
      "text/plain": [
       "\"['restaurant', 'star', 'decent', 'food', 'dinner', 'meeting', 'spend', '$', 'entrées', 'appetizer', 'flag', 'assistant', 'cook', 'guy', 'bright', 'red', 'baggy', 'pant', 'watch', 'tv', 'avocado', 'tuna', 'entrée', 'apparent', 'direct', 'help', 'situation', 'flag', 'waitress', 'bill', 'dollar', 'avocado']\""
      ]
     },
     "execution_count": 77,
     "metadata": {},
     "output_type": "execute_result"
    }
   ],
   "source": [
    "df['clean'].loc[0]"
   ]
  },
  {
   "cell_type": "code",
   "execution_count": 78,
   "id": "2a186789",
   "metadata": {},
   "outputs": [],
   "source": [
    "from ast import literal_eval"
   ]
  },
  {
   "cell_type": "code",
   "execution_count": null,
   "id": "7f0c886e",
   "metadata": {},
   "outputs": [],
   "source": [
    "df['clean_join'] = df['clean'].apply(lambda x: \" \".join(literal_eval(x)))"
   ]
  },
  {
   "cell_type": "code",
   "execution_count": 104,
   "id": "eb69d5f2",
   "metadata": {},
   "outputs": [
    {
     "name": "stderr",
     "output_type": "stream",
     "text": [
      "C:\\Users\\16156\\AppData\\Local\\Temp\\ipykernel_23076\\2479323302.py:1: FutureWarning: The default value of regex will change from True to False in a future version. In addition, single character regular expressions will *not* be treated as literal strings when regex=True.\n",
      "  df['clean_join'] = df['clean'].str.replace(\"'\", \"\").str.replace(\",\", \"\").str.replace(\"[\", \"\").str.replace(\"]\", \"\")\n"
     ]
    }
   ],
   "source": [
    "df['clean_join'] = df['clean'].str.replace(\"'\", \"\").str.replace(\",\", \"\").str.replace(\"[\", \"\").str.replace(\"]\", \"\")"
   ]
  },
  {
   "cell_type": "code",
   "execution_count": 105,
   "id": "14c57753",
   "metadata": {},
   "outputs": [
    {
     "data": {
      "text/plain": [
       "0         restaurant star decent food dinner meeting spe...\n",
       "1         amazing biscuit fill blank great cocktail high...\n",
       "2         stop sunday morning walk park great food coffe...\n",
       "3         honestly food knock sock people love place hus...\n",
       "4         man place nice bartender awesome try burger fr...\n",
       "                                ...                        \n",
       "326351    slow slowwwww sllllooooowwwww service order wr...\n",
       "326352             nice place eat pack want early go sunday\n",
       "326353    strand nashville extra day cancel flight need ...\n",
       "326354    supper club ridiculously expensive go downstai...\n",
       "326355    locate walk district nashville bit way mission...\n",
       "Name: clean_join, Length: 326356, dtype: object"
      ]
     },
     "execution_count": 105,
     "metadata": {},
     "output_type": "execute_result"
    }
   ],
   "source": [
    "df['clean_join']"
   ]
  },
  {
   "cell_type": "code",
   "execution_count": 106,
   "id": "32515d35",
   "metadata": {},
   "outputs": [
    {
     "name": "stdout",
     "output_type": "stream",
     "text": [
      "CPU times: total: 344 ms\n",
      "Wall time: 389 ms\n"
     ]
    }
   ],
   "source": [
    "%%time\n",
    "X = df[['clean_join']]\n",
    "y = df['review_stars']\n",
    "\n",
    "X_train, X_test, y_train, y_test = train_test_split(X, y, random_state = 321, test_size=0.25, stratify=y)\n",
    "\n",
    "\n",
    "vectorizer= TfidfVectorizer(ngram_range=(1,3))\n",
    "tf_x_train = vectorizer.fit_transform(X_train)\n",
    "tf_x_test = vectorizer.transform(X_test)"
   ]
  },
  {
   "cell_type": "code",
   "execution_count": 107,
   "id": "d0fc4848",
   "metadata": {},
   "outputs": [
    {
     "data": {
      "text/plain": [
       "(1, 1)"
      ]
     },
     "execution_count": 107,
     "metadata": {},
     "output_type": "execute_result"
    }
   ],
   "source": [
    "tf_x_train.shape"
   ]
  },
  {
   "cell_type": "code",
   "execution_count": 108,
   "id": "8d305d91",
   "metadata": {},
   "outputs": [
    {
     "data": {
      "text/plain": [
       "(244767, 1)"
      ]
     },
     "execution_count": 108,
     "metadata": {},
     "output_type": "execute_result"
    }
   ],
   "source": [
    "X_train.shape"
   ]
  },
  {
   "cell_type": "code",
   "execution_count": 109,
   "id": "700509e9",
   "metadata": {},
   "outputs": [
    {
     "data": {
      "text/html": [
       "<div>\n",
       "<style scoped>\n",
       "    .dataframe tbody tr th:only-of-type {\n",
       "        vertical-align: middle;\n",
       "    }\n",
       "\n",
       "    .dataframe tbody tr th {\n",
       "        vertical-align: top;\n",
       "    }\n",
       "\n",
       "    .dataframe thead th {\n",
       "        text-align: right;\n",
       "    }\n",
       "</style>\n",
       "<table border=\"1\" class=\"dataframe\">\n",
       "  <thead>\n",
       "    <tr style=\"text-align: right;\">\n",
       "      <th></th>\n",
       "      <th>clean_join</th>\n",
       "    </tr>\n",
       "  </thead>\n",
       "  <tbody>\n",
       "    <tr>\n",
       "      <th>125629</th>\n",
       "      <td>bad place great friendly people favorite dinin...</td>\n",
       "    </tr>\n",
       "    <tr>\n",
       "      <th>12139</th>\n",
       "      <td>great ambience staff friendly place spacious i...</td>\n",
       "    </tr>\n",
       "    <tr>\n",
       "      <th>211886</th>\n",
       "      <td>niece turn today favorite place chili decide c...</td>\n",
       "    </tr>\n",
       "    <tr>\n",
       "      <th>135292</th>\n",
       "      <td>enjoy agave think place maybe page drink page ...</td>\n",
       "    </tr>\n",
       "    <tr>\n",
       "      <th>318103</th>\n",
       "      <td>chipotle normally fine sure problem cheese war...</td>\n",
       "    </tr>\n",
       "  </tbody>\n",
       "</table>\n",
       "</div>"
      ],
      "text/plain": [
       "                                               clean_join\n",
       "125629  bad place great friendly people favorite dinin...\n",
       "12139   great ambience staff friendly place spacious i...\n",
       "211886  niece turn today favorite place chili decide c...\n",
       "135292  enjoy agave think place maybe page drink page ...\n",
       "318103  chipotle normally fine sure problem cheese war..."
      ]
     },
     "execution_count": 109,
     "metadata": {},
     "output_type": "execute_result"
    }
   ],
   "source": [
    "X_train.head()"
   ]
  },
  {
   "cell_type": "code",
   "execution_count": 110,
   "id": "23737420",
   "metadata": {},
   "outputs": [
    {
     "ename": "ValueError",
     "evalue": "Found input variables with inconsistent numbers of samples: [1, 244767]",
     "output_type": "error",
     "traceback": [
      "\u001b[1;31m---------------------------------------------------------------------------\u001b[0m",
      "\u001b[1;31mValueError\u001b[0m                                Traceback (most recent call last)",
      "File \u001b[1;32m<timed exec>:1\u001b[0m\n",
      "File \u001b[1;32m~\\ANACONDA\\lib\\site-packages\\sklearn\\naive_bayes.py:749\u001b[0m, in \u001b[0;36m_BaseDiscreteNB.fit\u001b[1;34m(self, X, y, sample_weight)\u001b[0m\n\u001b[0;32m    729\u001b[0m \u001b[38;5;124;03m\"\"\"Fit Naive Bayes classifier according to X, y.\u001b[39;00m\n\u001b[0;32m    730\u001b[0m \n\u001b[0;32m    731\u001b[0m \u001b[38;5;124;03mParameters\u001b[39;00m\n\u001b[1;32m   (...)\u001b[0m\n\u001b[0;32m    746\u001b[0m \u001b[38;5;124;03m    Returns the instance itself.\u001b[39;00m\n\u001b[0;32m    747\u001b[0m \u001b[38;5;124;03m\"\"\"\u001b[39;00m\n\u001b[0;32m    748\u001b[0m \u001b[38;5;28mself\u001b[39m\u001b[38;5;241m.\u001b[39m_validate_params()\n\u001b[1;32m--> 749\u001b[0m X, y \u001b[38;5;241m=\u001b[39m \u001b[38;5;28;43mself\u001b[39;49m\u001b[38;5;241;43m.\u001b[39;49m\u001b[43m_check_X_y\u001b[49m\u001b[43m(\u001b[49m\u001b[43mX\u001b[49m\u001b[43m,\u001b[49m\u001b[43m \u001b[49m\u001b[43my\u001b[49m\u001b[43m)\u001b[49m\n\u001b[0;32m    750\u001b[0m _, n_features \u001b[38;5;241m=\u001b[39m X\u001b[38;5;241m.\u001b[39mshape\n\u001b[0;32m    752\u001b[0m labelbin \u001b[38;5;241m=\u001b[39m LabelBinarizer()\n",
      "File \u001b[1;32m~\\ANACONDA\\lib\\site-packages\\sklearn\\naive_bayes.py:583\u001b[0m, in \u001b[0;36m_BaseDiscreteNB._check_X_y\u001b[1;34m(self, X, y, reset)\u001b[0m\n\u001b[0;32m    581\u001b[0m \u001b[38;5;28;01mdef\u001b[39;00m \u001b[38;5;21m_check_X_y\u001b[39m(\u001b[38;5;28mself\u001b[39m, X, y, reset\u001b[38;5;241m=\u001b[39m\u001b[38;5;28;01mTrue\u001b[39;00m):\n\u001b[0;32m    582\u001b[0m     \u001b[38;5;124;03m\"\"\"Validate X and y in fit methods.\"\"\"\u001b[39;00m\n\u001b[1;32m--> 583\u001b[0m     \u001b[38;5;28;01mreturn\u001b[39;00m \u001b[38;5;28;43mself\u001b[39;49m\u001b[38;5;241;43m.\u001b[39;49m\u001b[43m_validate_data\u001b[49m\u001b[43m(\u001b[49m\u001b[43mX\u001b[49m\u001b[43m,\u001b[49m\u001b[43m \u001b[49m\u001b[43my\u001b[49m\u001b[43m,\u001b[49m\u001b[43m \u001b[49m\u001b[43maccept_sparse\u001b[49m\u001b[38;5;241;43m=\u001b[39;49m\u001b[38;5;124;43m\"\u001b[39;49m\u001b[38;5;124;43mcsr\u001b[39;49m\u001b[38;5;124;43m\"\u001b[39;49m\u001b[43m,\u001b[49m\u001b[43m \u001b[49m\u001b[43mreset\u001b[49m\u001b[38;5;241;43m=\u001b[39;49m\u001b[43mreset\u001b[49m\u001b[43m)\u001b[49m\n",
      "File \u001b[1;32m~\\ANACONDA\\lib\\site-packages\\sklearn\\base.py:565\u001b[0m, in \u001b[0;36mBaseEstimator._validate_data\u001b[1;34m(self, X, y, reset, validate_separately, **check_params)\u001b[0m\n\u001b[0;32m    563\u001b[0m         y \u001b[38;5;241m=\u001b[39m check_array(y, input_name\u001b[38;5;241m=\u001b[39m\u001b[38;5;124m\"\u001b[39m\u001b[38;5;124my\u001b[39m\u001b[38;5;124m\"\u001b[39m, \u001b[38;5;241m*\u001b[39m\u001b[38;5;241m*\u001b[39mcheck_y_params)\n\u001b[0;32m    564\u001b[0m     \u001b[38;5;28;01melse\u001b[39;00m:\n\u001b[1;32m--> 565\u001b[0m         X, y \u001b[38;5;241m=\u001b[39m check_X_y(X, y, \u001b[38;5;241m*\u001b[39m\u001b[38;5;241m*\u001b[39mcheck_params)\n\u001b[0;32m    566\u001b[0m     out \u001b[38;5;241m=\u001b[39m X, y\n\u001b[0;32m    568\u001b[0m \u001b[38;5;28;01mif\u001b[39;00m \u001b[38;5;129;01mnot\u001b[39;00m no_val_X \u001b[38;5;129;01mand\u001b[39;00m check_params\u001b[38;5;241m.\u001b[39mget(\u001b[38;5;124m\"\u001b[39m\u001b[38;5;124mensure_2d\u001b[39m\u001b[38;5;124m\"\u001b[39m, \u001b[38;5;28;01mTrue\u001b[39;00m):\n",
      "File \u001b[1;32m~\\ANACONDA\\lib\\site-packages\\sklearn\\utils\\validation.py:1124\u001b[0m, in \u001b[0;36mcheck_X_y\u001b[1;34m(X, y, accept_sparse, accept_large_sparse, dtype, order, copy, force_all_finite, ensure_2d, allow_nd, multi_output, ensure_min_samples, ensure_min_features, y_numeric, estimator)\u001b[0m\n\u001b[0;32m   1106\u001b[0m X \u001b[38;5;241m=\u001b[39m check_array(\n\u001b[0;32m   1107\u001b[0m     X,\n\u001b[0;32m   1108\u001b[0m     accept_sparse\u001b[38;5;241m=\u001b[39maccept_sparse,\n\u001b[1;32m   (...)\u001b[0m\n\u001b[0;32m   1119\u001b[0m     input_name\u001b[38;5;241m=\u001b[39m\u001b[38;5;124m\"\u001b[39m\u001b[38;5;124mX\u001b[39m\u001b[38;5;124m\"\u001b[39m,\n\u001b[0;32m   1120\u001b[0m )\n\u001b[0;32m   1122\u001b[0m y \u001b[38;5;241m=\u001b[39m _check_y(y, multi_output\u001b[38;5;241m=\u001b[39mmulti_output, y_numeric\u001b[38;5;241m=\u001b[39my_numeric, estimator\u001b[38;5;241m=\u001b[39mestimator)\n\u001b[1;32m-> 1124\u001b[0m \u001b[43mcheck_consistent_length\u001b[49m\u001b[43m(\u001b[49m\u001b[43mX\u001b[49m\u001b[43m,\u001b[49m\u001b[43m \u001b[49m\u001b[43my\u001b[49m\u001b[43m)\u001b[49m\n\u001b[0;32m   1126\u001b[0m \u001b[38;5;28;01mreturn\u001b[39;00m X, y\n",
      "File \u001b[1;32m~\\ANACONDA\\lib\\site-packages\\sklearn\\utils\\validation.py:397\u001b[0m, in \u001b[0;36mcheck_consistent_length\u001b[1;34m(*arrays)\u001b[0m\n\u001b[0;32m    395\u001b[0m uniques \u001b[38;5;241m=\u001b[39m np\u001b[38;5;241m.\u001b[39munique(lengths)\n\u001b[0;32m    396\u001b[0m \u001b[38;5;28;01mif\u001b[39;00m \u001b[38;5;28mlen\u001b[39m(uniques) \u001b[38;5;241m>\u001b[39m \u001b[38;5;241m1\u001b[39m:\n\u001b[1;32m--> 397\u001b[0m     \u001b[38;5;28;01mraise\u001b[39;00m \u001b[38;5;167;01mValueError\u001b[39;00m(\n\u001b[0;32m    398\u001b[0m         \u001b[38;5;124m\"\u001b[39m\u001b[38;5;124mFound input variables with inconsistent numbers of samples: \u001b[39m\u001b[38;5;132;01m%r\u001b[39;00m\u001b[38;5;124m\"\u001b[39m\n\u001b[0;32m    399\u001b[0m         \u001b[38;5;241m%\u001b[39m [\u001b[38;5;28mint\u001b[39m(l) \u001b[38;5;28;01mfor\u001b[39;00m l \u001b[38;5;129;01min\u001b[39;00m lengths]\n\u001b[0;32m    400\u001b[0m     )\n",
      "\u001b[1;31mValueError\u001b[0m: Found input variables with inconsistent numbers of samples: [1, 244767]"
     ]
    }
   ],
   "source": [
    "%%time\n",
    "nb = MultinomialNB().fit(tf_x_train, y_train)"
   ]
  },
  {
   "cell_type": "code",
   "execution_count": 58,
   "id": "804c1735",
   "metadata": {},
   "outputs": [
    {
     "data": {
      "text/plain": [
       "(1, 1)"
      ]
     },
     "execution_count": 58,
     "metadata": {},
     "output_type": "execute_result"
    }
   ],
   "source": [
    "tf_x_train.shape"
   ]
  },
  {
   "cell_type": "code",
   "execution_count": 59,
   "id": "23ee3b12",
   "metadata": {},
   "outputs": [
    {
     "data": {
      "text/plain": [
       "<1x1 sparse matrix of type '<class 'numpy.float64'>'\n",
       "\twith 1 stored elements in Compressed Sparse Row format>"
      ]
     },
     "execution_count": 59,
     "metadata": {},
     "output_type": "execute_result"
    }
   ],
   "source": [
    "tf_x_train"
   ]
  },
  {
   "cell_type": "code",
   "execution_count": null,
   "id": "e0fa48ff",
   "metadata": {},
   "outputs": [],
   "source": []
  },
  {
   "cell_type": "code",
   "execution_count": null,
   "id": "dbbfa475",
   "metadata": {},
   "outputs": [],
   "source": [
    "from sklearn.linear_model import LogisticRegression\n",
    "clf = LogisticRegression()\n",
    "\n",
    "clf.fit(tf_x_train,y_train)\n",
    "\n",
    "y_test_pred=clf.predict(tf_x_test)\n",
    "\n",
    "print(classification_report(y_test, y_test_pred))"
   ]
  }
 ],
 "metadata": {
  "kernelspec": {
   "display_name": "Python 3 (ipykernel)",
   "language": "python",
   "name": "python3"
  },
  "language_info": {
   "codemirror_mode": {
    "name": "ipython",
    "version": 3
   },
   "file_extension": ".py",
   "mimetype": "text/x-python",
   "name": "python",
   "nbconvert_exporter": "python",
   "pygments_lexer": "ipython3",
   "version": "3.10.9"
  }
 },
 "nbformat": 4,
 "nbformat_minor": 5
}
